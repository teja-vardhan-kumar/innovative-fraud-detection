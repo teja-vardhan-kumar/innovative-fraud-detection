{
  "cells": [
    {
      "cell_type": "markdown",
      "source": [
        "# Prepare the real-time scoring model"
      ],
      "metadata": {}
    },
    {
      "cell_type": "markdown",
      "source": [
        "The team at Woodgrove Bank has provided you with exported CSV copies of historical data for you to train your model against. Run the following cell to load required libraries and download the data sets from the Azure ML datastore."
      ],
      "metadata": {}
    },
    {
      "cell_type": "code",
      "source": [
        "#!pip install --upgrade azureml-train-automl-runtime==1.36.0\n",
        "#!pip install --upgrade azureml-automl-runtime==1.36.0\n",
        "#!pip install --upgrade scikit-learn\n",
        "#!pip install --upgrade numpy"
      ],
      "outputs": [
        {
          "output_type": "display_data",
          "data": {
            "application/vnd.livy.statement-meta+json": {
              "spark_pool": "28089669-bbd5-433b-b328-2aaf792d2d3a",
              "session_id": "3",
              "statement_id": 7,
              "state": "finished",
              "livy_statement_state": "available",
              "queued_time": "2023-06-13T13:25:07.1914667Z",
              "session_start_time": null,
              "execution_start_time": "2023-06-13T13:25:07.2578851Z",
              "execution_finish_time": "2023-06-13T13:25:07.5739304Z",
              "spark_jobs": {
                "numbers": {
                  "FAILED": 0,
                  "RUNNING": 0,
                  "UNKNOWN": 0,
                  "SUCCEEDED": 0
                },
                "jobs": [],
                "limit": 20,
                "rule": "ALL_DESC"
              },
              "parent_msg_id": "7fb7dfa8-ea39-4689-969a-f77f67f52608"
            },
            "text/plain": "StatementMeta(28089669-bbd5-433b-b328-2aaf792d2d3a, 3, 7, Finished, Available)"
          },
          "metadata": {}
        }
      ],
      "execution_count": 2,
      "metadata": {
        "gather": {
          "logged": 1686662707077
        }
      }
    },
    {
      "cell_type": "code",
      "source": [
        "from azureml.core import Workspace, Environment, Datastore, Dataset\n",
        "from azureml.core.experiment import Experiment\n",
        "from azureml.core.run import Run\n",
        "from azureml.core.model import Model\n",
        "\n",
        "from sklearn.pipeline import Pipeline\n",
        "from sklearn.compose import ColumnTransformer\n",
        "from sklearn.preprocessing import OneHotEncoder, StandardScaler\n",
        "\n",
        "# sklearn.externals.joblib was deprecated in 0.21\n",
        "from sklearn import __version__ as sklearnver\n",
        "from packaging.version import Version\n",
        "if Version(sklearnver) < Version(\"0.21.0\"):\n",
        "    from sklearn.externals import joblib\n",
        "else:\n",
        "    import joblib\n",
        "\n",
        "import numpy as np\n",
        "import pandas as pd\n",
        "\n",
        "ws = Workspace.get(subscription_id= \"831359a3-06f6-4ed7-a3d0-535b8b673781\",\n",
        "                    resource_group= \"My_resourcegroup\",\n",
        "                    name= \"Innovative_fraud_detection\")\n",
        "\n",
        "# Load data\n",
        "ds = Datastore.get(ws, \"fd_datastore\")\n",
        "\n",
        "account_ds = Dataset.Tabular.from_delimited_files(path = [(ds, 'transactions/Account_Info.csv')])\n",
        "fraud_ds = Dataset.Tabular.from_delimited_files(path = [(ds, 'transactions/Fraud_Transactions.csv')])\n",
        "untagged_ds = Dataset.Tabular.from_delimited_files(path = [(ds, 'transactions/Untagged_Transactions.csv')])\n",
        "\n",
        "# Create pandas dataframes from datasets\n",
        "account_df = account_ds.to_pandas_dataframe()\n",
        "fraud_df = fraud_ds.to_pandas_dataframe()\n",
        "untagged_df = untagged_ds.to_pandas_dataframe()"
      ],
      "outputs": [
        {
          "output_type": "display_data",
          "data": {
            "application/vnd.livy.statement-meta+json": {
              "spark_pool": "28089669-bbd5-433b-b328-2aaf792d2d3a",
              "session_id": "3",
              "statement_id": 8,
              "state": "finished",
              "livy_statement_state": "available",
              "queued_time": "2023-06-13T13:25:07.3226168Z",
              "session_start_time": null,
              "execution_start_time": "2023-06-13T13:25:07.9332295Z",
              "execution_finish_time": "2023-06-13T13:26:23.6308351Z",
              "spark_jobs": {
                "numbers": {
                  "FAILED": 0,
                  "RUNNING": 0,
                  "UNKNOWN": 0,
                  "SUCCEEDED": 0
                },
                "jobs": [],
                "limit": 20,
                "rule": "ALL_DESC"
              },
              "parent_msg_id": "5fe2f700-7f85-484f-8047-d27cbec8daed"
            },
            "text/plain": "StatementMeta(28089669-bbd5-433b-b328-2aaf792d2d3a, 3, 8, Finished, Available)"
          },
          "metadata": {}
        },
        {
          "output_type": "stream",
          "name": "stdout",
          "text": "Performing interactive authentication. Please follow the instructions on the terminal.\nTo sign in, use a web browser to open the page https://microsoft.com/devicelogin and enter the code EJFA9963H to authenticate.\nYou have logged in. Now let us find all the subscriptions to which you have access...\nInteractive authentication successfully completed.\n"
        }
      ],
      "execution_count": 3,
      "metadata": {
        "gather": {
          "logged": 1686662782818
        },
        "scrolled": true
      }
    },
    {
      "cell_type": "markdown",
      "source": [
        "View the fraud dataframe. \n",
        "\n",
        "NOTE: The schema documentation for the data used here is available at:\n",
        "https://microsoft.github.io/r-server-fraud-detection/input_data.html"
      ],
      "metadata": {}
    },
    {
      "cell_type": "code",
      "source": [
        "fraud_df"
      ],
      "outputs": [
        {
          "output_type": "display_data",
          "data": {
            "application/vnd.livy.statement-meta+json": {
              "spark_pool": "28089669-bbd5-433b-b328-2aaf792d2d3a",
              "session_id": "3",
              "statement_id": 9,
              "state": "finished",
              "livy_statement_state": "available",
              "queued_time": "2023-06-13T13:25:07.448705Z",
              "session_start_time": null,
              "execution_start_time": "2023-06-13T13:26:23.7010887Z",
              "execution_finish_time": "2023-06-13T13:26:24.0189296Z",
              "spark_jobs": {
                "numbers": {
                  "FAILED": 0,
                  "RUNNING": 0,
                  "UNKNOWN": 0,
                  "SUCCEEDED": 0
                },
                "jobs": [],
                "limit": 20,
                "rule": "ALL_DESC"
              },
              "parent_msg_id": "e734de8a-9729-4e4d-a26b-92df141269f3"
            },
            "text/plain": "StatementMeta(28089669-bbd5-433b-b328-2aaf792d2d3a, 3, 9, Finished, Available)"
          },
          "metadata": {}
        },
        {
          "output_type": "execute_result",
          "execution_count": 17,
          "data": {
            "text/plain": "                             transactionID          accountID  \\\n0     65020E58-781D-4FFC-BEF2-0FDF87BE671D   A985156981092344   \n1     8EC10EBC-F4BB-4148-9073-4B2BA93C9B34   A985156981066925   \n2     CD624353-E473-4EE0-8BDF-A818627AA1D1   A985156970845915   \n3     C125DD40-6BE3-40E2-8604-5B9540751467  A1688853657886190   \n4     FF74DFD9-5015-440B-97A1-BDAB4A95B272   A985156971082067   \n...                                    ...                ...   \n8635  2BC88AB8-2773-4DE8-86D7-E7281C4BF115  A1829582472627460   \n8636  F560D6BE-BCA9-4582-939B-E9274DA743D4   A844427656367602   \n8637  D8EA18C5-0AE8-4054-B380-DED726C64517   A844427695849709   \n8638  C4D00819-C09F-4A64-AB97-C644865F4412  A1055520904938410   \n8639  24A7782E-DDF2-421A-908C-2AE8779A715D   A914800498940051   \n\n      transactionAmount transactionCurrencyCode  transactionDate  \\\n0               1148.60                     CAD         20130402   \n1                150.31                     USD         20130403   \n2                 99.98                     USD         20130403   \n3                 53.99                     USD         20130403   \n4                119.98                     USD         20130403   \n...                 ...                     ...              ...   \n8635             105.99                     USD         20130929   \n8636              86.95                     USD         20130929   \n8637             139.00                     EUR         20130929   \n8638             141.39                     USD         20130929   \n8639             105.99                     USD         20130930   \n\n      transactionTime localHour transactionDeviceId  transactionIPaddress  \n0               14450        20                  NA                66.460  \n1              135015         8                  NA                67.800  \n2              161950        11                  NA                96.570  \n3              175759        12                  NA                74.680  \n4              181256        13                  NA               184.340  \n...               ...       ...                 ...                   ...  \n8635           104211         2                  NA                99.420  \n8636           153500         7                  NA               209.166  \n8637           222727        23                  NA                94.216  \n8638           233033        18                  NA                69.115  \n8639           230654        18                  NA                71.182  \n\n[8640 rows x 9 columns]",
            "text/html": "<div>\n<style scoped>\n    .dataframe tbody tr th:only-of-type {\n        vertical-align: middle;\n    }\n\n    .dataframe tbody tr th {\n        vertical-align: top;\n    }\n\n    .dataframe thead th {\n        text-align: right;\n    }\n</style>\n<table border=\"1\" class=\"dataframe\">\n  <thead>\n    <tr style=\"text-align: right;\">\n      <th></th>\n      <th>transactionID</th>\n      <th>accountID</th>\n      <th>transactionAmount</th>\n      <th>transactionCurrencyCode</th>\n      <th>transactionDate</th>\n      <th>transactionTime</th>\n      <th>localHour</th>\n      <th>transactionDeviceId</th>\n      <th>transactionIPaddress</th>\n    </tr>\n  </thead>\n  <tbody>\n    <tr>\n      <th>0</th>\n      <td>65020E58-781D-4FFC-BEF2-0FDF87BE671D</td>\n      <td>A985156981092344</td>\n      <td>1148.60</td>\n      <td>CAD</td>\n      <td>20130402</td>\n      <td>14450</td>\n      <td>20</td>\n      <td>NA</td>\n      <td>66.460</td>\n    </tr>\n    <tr>\n      <th>1</th>\n      <td>8EC10EBC-F4BB-4148-9073-4B2BA93C9B34</td>\n      <td>A985156981066925</td>\n      <td>150.31</td>\n      <td>USD</td>\n      <td>20130403</td>\n      <td>135015</td>\n      <td>8</td>\n      <td>NA</td>\n      <td>67.800</td>\n    </tr>\n    <tr>\n      <th>2</th>\n      <td>CD624353-E473-4EE0-8BDF-A818627AA1D1</td>\n      <td>A985156970845915</td>\n      <td>99.98</td>\n      <td>USD</td>\n      <td>20130403</td>\n      <td>161950</td>\n      <td>11</td>\n      <td>NA</td>\n      <td>96.570</td>\n    </tr>\n    <tr>\n      <th>3</th>\n      <td>C125DD40-6BE3-40E2-8604-5B9540751467</td>\n      <td>A1688853657886190</td>\n      <td>53.99</td>\n      <td>USD</td>\n      <td>20130403</td>\n      <td>175759</td>\n      <td>12</td>\n      <td>NA</td>\n      <td>74.680</td>\n    </tr>\n    <tr>\n      <th>4</th>\n      <td>FF74DFD9-5015-440B-97A1-BDAB4A95B272</td>\n      <td>A985156971082067</td>\n      <td>119.98</td>\n      <td>USD</td>\n      <td>20130403</td>\n      <td>181256</td>\n      <td>13</td>\n      <td>NA</td>\n      <td>184.340</td>\n    </tr>\n    <tr>\n      <th>...</th>\n      <td>...</td>\n      <td>...</td>\n      <td>...</td>\n      <td>...</td>\n      <td>...</td>\n      <td>...</td>\n      <td>...</td>\n      <td>...</td>\n      <td>...</td>\n    </tr>\n    <tr>\n      <th>8635</th>\n      <td>2BC88AB8-2773-4DE8-86D7-E7281C4BF115</td>\n      <td>A1829582472627460</td>\n      <td>105.99</td>\n      <td>USD</td>\n      <td>20130929</td>\n      <td>104211</td>\n      <td>2</td>\n      <td>NA</td>\n      <td>99.420</td>\n    </tr>\n    <tr>\n      <th>8636</th>\n      <td>F560D6BE-BCA9-4582-939B-E9274DA743D4</td>\n      <td>A844427656367602</td>\n      <td>86.95</td>\n      <td>USD</td>\n      <td>20130929</td>\n      <td>153500</td>\n      <td>7</td>\n      <td>NA</td>\n      <td>209.166</td>\n    </tr>\n    <tr>\n      <th>8637</th>\n      <td>D8EA18C5-0AE8-4054-B380-DED726C64517</td>\n      <td>A844427695849709</td>\n      <td>139.00</td>\n      <td>EUR</td>\n      <td>20130929</td>\n      <td>222727</td>\n      <td>23</td>\n      <td>NA</td>\n      <td>94.216</td>\n    </tr>\n    <tr>\n      <th>8638</th>\n      <td>C4D00819-C09F-4A64-AB97-C644865F4412</td>\n      <td>A1055520904938410</td>\n      <td>141.39</td>\n      <td>USD</td>\n      <td>20130929</td>\n      <td>233033</td>\n      <td>18</td>\n      <td>NA</td>\n      <td>69.115</td>\n    </tr>\n    <tr>\n      <th>8639</th>\n      <td>24A7782E-DDF2-421A-908C-2AE8779A715D</td>\n      <td>A914800498940051</td>\n      <td>105.99</td>\n      <td>USD</td>\n      <td>20130930</td>\n      <td>230654</td>\n      <td>18</td>\n      <td>NA</td>\n      <td>71.182</td>\n    </tr>\n  </tbody>\n</table>\n<p>8640 rows × 9 columns</p>\n</div>"
          },
          "metadata": {}
        }
      ],
      "execution_count": 4,
      "metadata": {
        "gather": {
          "logged": 1686662783305
        }
      }
    },
    {
      "cell_type": "markdown",
      "source": [
        "View the account info dataframe."
      ],
      "metadata": {}
    },
    {
      "cell_type": "code",
      "source": [
        "account_df"
      ],
      "outputs": [
        {
          "output_type": "display_data",
          "data": {
            "application/vnd.livy.statement-meta+json": {
              "spark_pool": "28089669-bbd5-433b-b328-2aaf792d2d3a",
              "session_id": "3",
              "statement_id": 10,
              "state": "finished",
              "livy_statement_state": "available",
              "queued_time": "2023-06-13T13:25:07.6061134Z",
              "session_start_time": null,
              "execution_start_time": "2023-06-13T13:26:24.087065Z",
              "execution_finish_time": "2023-06-13T13:26:24.4170031Z",
              "spark_jobs": {
                "numbers": {
                  "FAILED": 0,
                  "RUNNING": 0,
                  "UNKNOWN": 0,
                  "SUCCEEDED": 0
                },
                "jobs": [],
                "limit": 20,
                "rule": "ALL_DESC"
              },
              "parent_msg_id": "3f008ae3-2471-465d-b1b1-714b3ac29f1c"
            },
            "text/plain": "StatementMeta(28089669-bbd5-433b-b328-2aaf792d2d3a, 3, 10, Finished, Available)"
          },
          "metadata": {}
        },
        {
          "output_type": "execute_result",
          "execution_count": 19,
          "data": {
            "text/plain": "                accountID  transactionDate  transactionTime accountOwnerName  \\\n0       A1688852564389340         20130401             2932             None   \n1        A985156162171434         20130401             3005             None   \n2        A844427191626038         20130401            12302             None   \n3        A362015581825370         20130401            12446             None   \n4       A1829581577560200         20130401            13308             None   \n...                   ...              ...              ...              ...   \n199510   A985156194167109         20130610           192749             None   \n199511  A1055520550223960         20130610           191723             None   \n199512  A1055520426331540         20130610           192004             None   \n199513  A1055521418207590         20130610           192129             None   \n199514   A564049483387376         20130610           192347             None   \n\n       accountAddress accountPostalCode accountCity accountState  \\\n0                None         30170-000        None           MG   \n1                None          da11 9ps        None      England   \n2                None              4671        None   Queensland   \n3                None                 -        None         None   \n4                None           3780000        None      chillan   \n...               ...               ...         ...          ...   \n199510           None             43214        None           OH   \n199511           None             45218        None           OH   \n199512           None             92691        None           CA   \n199513           None             49682        None           MI   \n199514           None             60561        None           IL   \n\n       accountCountry accountOpenDate  accountAge isUserRegistered  \\\n0                  BR            None         1.0            False   \n1                  GB            None        61.0             True   \n2                  AU            None         1.0            False   \n3                  PE            None         1.0            False   \n4                  CL            None         1.0            False   \n...               ...             ...         ...              ...   \n199510             US            None         1.0            False   \n199511             US            None      2000.0             True   \n199512             US            None        84.0            False   \n199513             US            None         1.0            False   \n199514             US            None      2000.0            False   \n\n        paymentInstrumentAgeInAccount  numPaymentRejects1dPerUser  \n0                            0.000694                         0.0  \n1                           55.490972                         0.0  \n2                            0.002083                         0.0  \n3                            0.000000                         0.0  \n4                            0.000000                         0.0  \n...                               ...                         ...  \n199510                       0.000000                         0.0  \n199511                      41.991667                         0.0  \n199512                      83.155556                         0.0  \n199513                       0.002083                         0.0  \n199514                    1332.239583                         0.0  \n\n[199515 rows x 14 columns]",
            "text/html": "<div>\n<style scoped>\n    .dataframe tbody tr th:only-of-type {\n        vertical-align: middle;\n    }\n\n    .dataframe tbody tr th {\n        vertical-align: top;\n    }\n\n    .dataframe thead th {\n        text-align: right;\n    }\n</style>\n<table border=\"1\" class=\"dataframe\">\n  <thead>\n    <tr style=\"text-align: right;\">\n      <th></th>\n      <th>accountID</th>\n      <th>transactionDate</th>\n      <th>transactionTime</th>\n      <th>accountOwnerName</th>\n      <th>accountAddress</th>\n      <th>accountPostalCode</th>\n      <th>accountCity</th>\n      <th>accountState</th>\n      <th>accountCountry</th>\n      <th>accountOpenDate</th>\n      <th>accountAge</th>\n      <th>isUserRegistered</th>\n      <th>paymentInstrumentAgeInAccount</th>\n      <th>numPaymentRejects1dPerUser</th>\n    </tr>\n  </thead>\n  <tbody>\n    <tr>\n      <th>0</th>\n      <td>A1688852564389340</td>\n      <td>20130401</td>\n      <td>2932</td>\n      <td>None</td>\n      <td>None</td>\n      <td>30170-000</td>\n      <td>None</td>\n      <td>MG</td>\n      <td>BR</td>\n      <td>None</td>\n      <td>1.0</td>\n      <td>False</td>\n      <td>0.000694</td>\n      <td>0.0</td>\n    </tr>\n    <tr>\n      <th>1</th>\n      <td>A985156162171434</td>\n      <td>20130401</td>\n      <td>3005</td>\n      <td>None</td>\n      <td>None</td>\n      <td>da11 9ps</td>\n      <td>None</td>\n      <td>England</td>\n      <td>GB</td>\n      <td>None</td>\n      <td>61.0</td>\n      <td>True</td>\n      <td>55.490972</td>\n      <td>0.0</td>\n    </tr>\n    <tr>\n      <th>2</th>\n      <td>A844427191626038</td>\n      <td>20130401</td>\n      <td>12302</td>\n      <td>None</td>\n      <td>None</td>\n      <td>4671</td>\n      <td>None</td>\n      <td>Queensland</td>\n      <td>AU</td>\n      <td>None</td>\n      <td>1.0</td>\n      <td>False</td>\n      <td>0.002083</td>\n      <td>0.0</td>\n    </tr>\n    <tr>\n      <th>3</th>\n      <td>A362015581825370</td>\n      <td>20130401</td>\n      <td>12446</td>\n      <td>None</td>\n      <td>None</td>\n      <td>-</td>\n      <td>None</td>\n      <td>None</td>\n      <td>PE</td>\n      <td>None</td>\n      <td>1.0</td>\n      <td>False</td>\n      <td>0.000000</td>\n      <td>0.0</td>\n    </tr>\n    <tr>\n      <th>4</th>\n      <td>A1829581577560200</td>\n      <td>20130401</td>\n      <td>13308</td>\n      <td>None</td>\n      <td>None</td>\n      <td>3780000</td>\n      <td>None</td>\n      <td>chillan</td>\n      <td>CL</td>\n      <td>None</td>\n      <td>1.0</td>\n      <td>False</td>\n      <td>0.000000</td>\n      <td>0.0</td>\n    </tr>\n    <tr>\n      <th>...</th>\n      <td>...</td>\n      <td>...</td>\n      <td>...</td>\n      <td>...</td>\n      <td>...</td>\n      <td>...</td>\n      <td>...</td>\n      <td>...</td>\n      <td>...</td>\n      <td>...</td>\n      <td>...</td>\n      <td>...</td>\n      <td>...</td>\n      <td>...</td>\n    </tr>\n    <tr>\n      <th>199510</th>\n      <td>A985156194167109</td>\n      <td>20130610</td>\n      <td>192749</td>\n      <td>None</td>\n      <td>None</td>\n      <td>43214</td>\n      <td>None</td>\n      <td>OH</td>\n      <td>US</td>\n      <td>None</td>\n      <td>1.0</td>\n      <td>False</td>\n      <td>0.000000</td>\n      <td>0.0</td>\n    </tr>\n    <tr>\n      <th>199511</th>\n      <td>A1055520550223960</td>\n      <td>20130610</td>\n      <td>191723</td>\n      <td>None</td>\n      <td>None</td>\n      <td>45218</td>\n      <td>None</td>\n      <td>OH</td>\n      <td>US</td>\n      <td>None</td>\n      <td>2000.0</td>\n      <td>True</td>\n      <td>41.991667</td>\n      <td>0.0</td>\n    </tr>\n    <tr>\n      <th>199512</th>\n      <td>A1055520426331540</td>\n      <td>20130610</td>\n      <td>192004</td>\n      <td>None</td>\n      <td>None</td>\n      <td>92691</td>\n      <td>None</td>\n      <td>CA</td>\n      <td>US</td>\n      <td>None</td>\n      <td>84.0</td>\n      <td>False</td>\n      <td>83.155556</td>\n      <td>0.0</td>\n    </tr>\n    <tr>\n      <th>199513</th>\n      <td>A1055521418207590</td>\n      <td>20130610</td>\n      <td>192129</td>\n      <td>None</td>\n      <td>None</td>\n      <td>49682</td>\n      <td>None</td>\n      <td>MI</td>\n      <td>US</td>\n      <td>None</td>\n      <td>1.0</td>\n      <td>False</td>\n      <td>0.002083</td>\n      <td>0.0</td>\n    </tr>\n    <tr>\n      <th>199514</th>\n      <td>A564049483387376</td>\n      <td>20130610</td>\n      <td>192347</td>\n      <td>None</td>\n      <td>None</td>\n      <td>60561</td>\n      <td>None</td>\n      <td>IL</td>\n      <td>US</td>\n      <td>None</td>\n      <td>2000.0</td>\n      <td>False</td>\n      <td>1332.239583</td>\n      <td>0.0</td>\n    </tr>\n  </tbody>\n</table>\n<p>199515 rows × 14 columns</p>\n</div>"
          },
          "metadata": {}
        }
      ],
      "execution_count": 5,
      "metadata": {
        "gather": {
          "logged": 1686662783922
        },
        "jupyter": {
          "outputs_hidden": false,
          "source_hidden": false
        },
        "nteract": {
          "transient": {
            "deleting": false
          }
        },
        "scrolled": true
      }
    },
    {
      "cell_type": "markdown",
      "source": [
        "View the untagged transactions dataframe."
      ],
      "metadata": {}
    },
    {
      "cell_type": "code",
      "source": [
        "###### Reorder the column of dataframe by ascending order in pandas \n",
        "cols=untagged_df.columns.tolist()\n",
        "cols.sort()\n",
        "untagged_df=untagged_df[cols]\n",
        "\n",
        "untagged_df"
      ],
      "outputs": [
        {
          "output_type": "display_data",
          "data": {
            "application/vnd.livy.statement-meta+json": {
              "spark_pool": "28089669-bbd5-433b-b328-2aaf792d2d3a",
              "session_id": "3",
              "statement_id": 11,
              "state": "finished",
              "livy_statement_state": "available",
              "queued_time": "2023-06-13T13:25:07.9407608Z",
              "session_start_time": null,
              "execution_start_time": "2023-06-13T13:26:24.4939629Z",
              "execution_finish_time": "2023-06-13T13:26:25.3927841Z",
              "spark_jobs": {
                "numbers": {
                  "FAILED": 0,
                  "RUNNING": 0,
                  "UNKNOWN": 0,
                  "SUCCEEDED": 0
                },
                "jobs": [],
                "limit": 20,
                "rule": "ALL_DESC"
              },
              "parent_msg_id": "feb1aee2-04fb-4886-97ea-f9d76c4b0c17"
            },
            "text/plain": "StatementMeta(28089669-bbd5-433b-b328-2aaf792d2d3a, 3, 11, Finished, Available)"
          },
          "metadata": {}
        },
        {
          "output_type": "execute_result",
          "execution_count": 21,
          "data": {
            "text/plain": "                accountID browserLanguage browserType cardNumberInputMethod  \\\n0        A985156985579195           en-AU        None                  None   \n1        A985156966855837           en-AU        None                  None   \n2        A844428012992486           nn-NO        None                  None   \n3       A1055521358474530           en-US        None                  None   \n4        A844428033864668           it-IT        None                  None   \n...                   ...             ...         ...                   ...   \n199995   A844427716212595           en-US        None                  None   \n199996   A844428106261845           fr-FR        None                  None   \n199997   A914800203072004           en-US        None                  None   \n199998   A985156680378469           ru-RU        None                  None   \n199999   A844427709727452           en-US        None                  None   \n\n       cardType cvvVerifyResult  digitalItemCount ipCountryCode ipPostcode  \\\n0          VISA               M                 1            au       3000   \n1          VISA               M                 0            us      14534   \n2            MC               M                 1            no       1006   \n3          AMEX               M                 0            ae          0   \n4          VISA               U                 1            it      39100   \n...         ...             ...               ...           ...        ...   \n199995     VISA               M                 1            us      33144   \n199996     None            None                 1            fr      36000   \n199997     AMEX               M                 0            us      14534   \n199998       MC               M                 1            ru     100000   \n199999     AMEX               M                 1            us      15222   \n\n             ipState  ... transactionCurrencyConversionRate  transactionDate  \\\n0           victoria  ...                              None         20130409   \n1           new york  ...                              None         20130409   \n2               oslo  ...                              None         20130409   \n3             dubayy  ...                              None         20130409   \n4            bolzano  ...                              None         20130409   \n...              ...  ...                               ...              ...   \n199995       florida  ...                              None         20130927   \n199996         indre  ...                              None         20130927   \n199997      new york  ...                              None         20130927   \n199998        moskva  ...                              None         20130927   \n199999  pennsylvania  ...                              None         20130927   \n\n       transactionDeviceId transactionDeviceType  \\\n0                     None                  None   \n1                     None                  None   \n2                     None                  None   \n3                     None                  None   \n4                     None                  None   \n...                    ...                   ...   \n199995                None                  None   \n199996                None                  None   \n199997                None                  None   \n199998                None                  None   \n199999                None                  None   \n\n                               transactionID transactionIPaddress  \\\n0       5EAC1EBD-1428-4593-898E-F4B56BC3FA06              121.219   \n1       48C88D1C-3705-472B-A4A3-5FCE45A5429B              216.150   \n2       13B2A110-EA04-42CD-88CC-A85814A5C961               94.246   \n3       C34F7C20-6203-42F5-A41B-AF26177345BE               92.970   \n4       C78542E6-0951-4B63-B420-BEF750B98BCD               95.229   \n...                                      ...                  ...   \n199995  4B42DDD2-B325-4153-A274-F9CC0A14F56F              162.229   \n199996  4BFD3DE4-1474-4F57-ACB0-8B8861095496              213.245   \n199997  4178D1BF-66E6-4449-A491-1C3750531DE4              216.150   \n199998  415575D3-9931-4D70-8A4E-3D7E12BA2F73               95.165   \n199999  D20C41A7-6B8C-46FE-9B6B-8B45488CCEDA              209.155   \n\n       transactionMethod transactionScenario transactionTime  transactionType  \n0                   None                   A           95040                P  \n1                   None                   A           94256                P  \n2                   None                   A           95257                P  \n3                   None                   A          102958                P  \n4                   None                   A          103514                P  \n...                  ...                 ...             ...              ...  \n199995              None                   A          195831                P  \n199996              None                   A          200022                P  \n199997              None                   A          195832                P  \n199998              None                   A          200859                P  \n199999              None                   A          201231                P  \n\n[200000 rows x 40 columns]",
            "text/html": "<div>\n<style scoped>\n    .dataframe tbody tr th:only-of-type {\n        vertical-align: middle;\n    }\n\n    .dataframe tbody tr th {\n        vertical-align: top;\n    }\n\n    .dataframe thead th {\n        text-align: right;\n    }\n</style>\n<table border=\"1\" class=\"dataframe\">\n  <thead>\n    <tr style=\"text-align: right;\">\n      <th></th>\n      <th>accountID</th>\n      <th>browserLanguage</th>\n      <th>browserType</th>\n      <th>cardNumberInputMethod</th>\n      <th>cardType</th>\n      <th>cvvVerifyResult</th>\n      <th>digitalItemCount</th>\n      <th>ipCountryCode</th>\n      <th>ipPostcode</th>\n      <th>ipState</th>\n      <th>...</th>\n      <th>transactionCurrencyConversionRate</th>\n      <th>transactionDate</th>\n      <th>transactionDeviceId</th>\n      <th>transactionDeviceType</th>\n      <th>transactionID</th>\n      <th>transactionIPaddress</th>\n      <th>transactionMethod</th>\n      <th>transactionScenario</th>\n      <th>transactionTime</th>\n      <th>transactionType</th>\n    </tr>\n  </thead>\n  <tbody>\n    <tr>\n      <th>0</th>\n      <td>A985156985579195</td>\n      <td>en-AU</td>\n      <td>None</td>\n      <td>None</td>\n      <td>VISA</td>\n      <td>M</td>\n      <td>1</td>\n      <td>au</td>\n      <td>3000</td>\n      <td>victoria</td>\n      <td>...</td>\n      <td>None</td>\n      <td>20130409</td>\n      <td>None</td>\n      <td>None</td>\n      <td>5EAC1EBD-1428-4593-898E-F4B56BC3FA06</td>\n      <td>121.219</td>\n      <td>None</td>\n      <td>A</td>\n      <td>95040</td>\n      <td>P</td>\n    </tr>\n    <tr>\n      <th>1</th>\n      <td>A985156966855837</td>\n      <td>en-AU</td>\n      <td>None</td>\n      <td>None</td>\n      <td>VISA</td>\n      <td>M</td>\n      <td>0</td>\n      <td>us</td>\n      <td>14534</td>\n      <td>new york</td>\n      <td>...</td>\n      <td>None</td>\n      <td>20130409</td>\n      <td>None</td>\n      <td>None</td>\n      <td>48C88D1C-3705-472B-A4A3-5FCE45A5429B</td>\n      <td>216.150</td>\n      <td>None</td>\n      <td>A</td>\n      <td>94256</td>\n      <td>P</td>\n    </tr>\n    <tr>\n      <th>2</th>\n      <td>A844428012992486</td>\n      <td>nn-NO</td>\n      <td>None</td>\n      <td>None</td>\n      <td>MC</td>\n      <td>M</td>\n      <td>1</td>\n      <td>no</td>\n      <td>1006</td>\n      <td>oslo</td>\n      <td>...</td>\n      <td>None</td>\n      <td>20130409</td>\n      <td>None</td>\n      <td>None</td>\n      <td>13B2A110-EA04-42CD-88CC-A85814A5C961</td>\n      <td>94.246</td>\n      <td>None</td>\n      <td>A</td>\n      <td>95257</td>\n      <td>P</td>\n    </tr>\n    <tr>\n      <th>3</th>\n      <td>A1055521358474530</td>\n      <td>en-US</td>\n      <td>None</td>\n      <td>None</td>\n      <td>AMEX</td>\n      <td>M</td>\n      <td>0</td>\n      <td>ae</td>\n      <td>0</td>\n      <td>dubayy</td>\n      <td>...</td>\n      <td>None</td>\n      <td>20130409</td>\n      <td>None</td>\n      <td>None</td>\n      <td>C34F7C20-6203-42F5-A41B-AF26177345BE</td>\n      <td>92.970</td>\n      <td>None</td>\n      <td>A</td>\n      <td>102958</td>\n      <td>P</td>\n    </tr>\n    <tr>\n      <th>4</th>\n      <td>A844428033864668</td>\n      <td>it-IT</td>\n      <td>None</td>\n      <td>None</td>\n      <td>VISA</td>\n      <td>U</td>\n      <td>1</td>\n      <td>it</td>\n      <td>39100</td>\n      <td>bolzano</td>\n      <td>...</td>\n      <td>None</td>\n      <td>20130409</td>\n      <td>None</td>\n      <td>None</td>\n      <td>C78542E6-0951-4B63-B420-BEF750B98BCD</td>\n      <td>95.229</td>\n      <td>None</td>\n      <td>A</td>\n      <td>103514</td>\n      <td>P</td>\n    </tr>\n    <tr>\n      <th>...</th>\n      <td>...</td>\n      <td>...</td>\n      <td>...</td>\n      <td>...</td>\n      <td>...</td>\n      <td>...</td>\n      <td>...</td>\n      <td>...</td>\n      <td>...</td>\n      <td>...</td>\n      <td>...</td>\n      <td>...</td>\n      <td>...</td>\n      <td>...</td>\n      <td>...</td>\n      <td>...</td>\n      <td>...</td>\n      <td>...</td>\n      <td>...</td>\n      <td>...</td>\n      <td>...</td>\n    </tr>\n    <tr>\n      <th>199995</th>\n      <td>A844427716212595</td>\n      <td>en-US</td>\n      <td>None</td>\n      <td>None</td>\n      <td>VISA</td>\n      <td>M</td>\n      <td>1</td>\n      <td>us</td>\n      <td>33144</td>\n      <td>florida</td>\n      <td>...</td>\n      <td>None</td>\n      <td>20130927</td>\n      <td>None</td>\n      <td>None</td>\n      <td>4B42DDD2-B325-4153-A274-F9CC0A14F56F</td>\n      <td>162.229</td>\n      <td>None</td>\n      <td>A</td>\n      <td>195831</td>\n      <td>P</td>\n    </tr>\n    <tr>\n      <th>199996</th>\n      <td>A844428106261845</td>\n      <td>fr-FR</td>\n      <td>None</td>\n      <td>None</td>\n      <td>None</td>\n      <td>None</td>\n      <td>1</td>\n      <td>fr</td>\n      <td>36000</td>\n      <td>indre</td>\n      <td>...</td>\n      <td>None</td>\n      <td>20130927</td>\n      <td>None</td>\n      <td>None</td>\n      <td>4BFD3DE4-1474-4F57-ACB0-8B8861095496</td>\n      <td>213.245</td>\n      <td>None</td>\n      <td>A</td>\n      <td>200022</td>\n      <td>P</td>\n    </tr>\n    <tr>\n      <th>199997</th>\n      <td>A914800203072004</td>\n      <td>en-US</td>\n      <td>None</td>\n      <td>None</td>\n      <td>AMEX</td>\n      <td>M</td>\n      <td>0</td>\n      <td>us</td>\n      <td>14534</td>\n      <td>new york</td>\n      <td>...</td>\n      <td>None</td>\n      <td>20130927</td>\n      <td>None</td>\n      <td>None</td>\n      <td>4178D1BF-66E6-4449-A491-1C3750531DE4</td>\n      <td>216.150</td>\n      <td>None</td>\n      <td>A</td>\n      <td>195832</td>\n      <td>P</td>\n    </tr>\n    <tr>\n      <th>199998</th>\n      <td>A985156680378469</td>\n      <td>ru-RU</td>\n      <td>None</td>\n      <td>None</td>\n      <td>MC</td>\n      <td>M</td>\n      <td>1</td>\n      <td>ru</td>\n      <td>100000</td>\n      <td>moskva</td>\n      <td>...</td>\n      <td>None</td>\n      <td>20130927</td>\n      <td>None</td>\n      <td>None</td>\n      <td>415575D3-9931-4D70-8A4E-3D7E12BA2F73</td>\n      <td>95.165</td>\n      <td>None</td>\n      <td>A</td>\n      <td>200859</td>\n      <td>P</td>\n    </tr>\n    <tr>\n      <th>199999</th>\n      <td>A844427709727452</td>\n      <td>en-US</td>\n      <td>None</td>\n      <td>None</td>\n      <td>AMEX</td>\n      <td>M</td>\n      <td>1</td>\n      <td>us</td>\n      <td>15222</td>\n      <td>pennsylvania</td>\n      <td>...</td>\n      <td>None</td>\n      <td>20130927</td>\n      <td>None</td>\n      <td>None</td>\n      <td>D20C41A7-6B8C-46FE-9B6B-8B45488CCEDA</td>\n      <td>209.155</td>\n      <td>None</td>\n      <td>A</td>\n      <td>201231</td>\n      <td>P</td>\n    </tr>\n  </tbody>\n</table>\n<p>200000 rows × 40 columns</p>\n</div>"
          },
          "metadata": {}
        }
      ],
      "execution_count": 6,
      "metadata": {
        "gather": {
          "logged": 1686662784971
        },
        "jupyter": {
          "outputs_hidden": false,
          "source_hidden": false
        },
        "nteract": {
          "transient": {
            "deleting": false
          }
        },
        "scrolled": true
      }
    },
    {
      "cell_type": "markdown",
      "source": [
        "## Prepare data\n",
        "\n",
        "The raw data has some issues we need to cleanup before we can use it to train a model, which we perform in the following cells."
      ],
      "metadata": {}
    },
    {
      "cell_type": "markdown",
      "source": [
        "### Prepare accounts\n",
        "\n",
        "Begin by cleaning the data in accounts data set.\n",
        "Remove columns that have very few or no values: `accountOwnerName`, `accountAddress`, `accountCity` and `accountOpenDate` "
      ],
      "metadata": {}
    },
    {
      "cell_type": "code",
      "source": [
        "account_df_clean = account_df[[\"accountID\", \"transactionDate\", \"transactionTime\", \n",
        "                               \"accountPostalCode\", \"accountState\", \"accountCountry\", \n",
        "                               \"accountAge\", \"isUserRegistered\", \"paymentInstrumentAgeInAccount\", \n",
        "                               \"numPaymentRejects1dPerUser\"]]"
      ],
      "outputs": [
        {
          "output_type": "display_data",
          "data": {
            "application/vnd.livy.statement-meta+json": {
              "spark_pool": "28089669-bbd5-433b-b328-2aaf792d2d3a",
              "session_id": "3",
              "statement_id": 12,
              "state": "finished",
              "livy_statement_state": "available",
              "queued_time": "2023-06-13T13:25:08.4875064Z",
              "session_start_time": null,
              "execution_start_time": "2023-06-13T13:26:25.4716679Z",
              "execution_finish_time": "2023-06-13T13:26:25.8466439Z",
              "spark_jobs": {
                "numbers": {
                  "FAILED": 0,
                  "RUNNING": 0,
                  "UNKNOWN": 0,
                  "SUCCEEDED": 0
                },
                "jobs": [],
                "limit": 20,
                "rule": "ALL_DESC"
              },
              "parent_msg_id": "6fbb8186-2b0d-4c2e-b140-5487f971ce3b"
            },
            "text/plain": "StatementMeta(28089669-bbd5-433b-b328-2aaf792d2d3a, 3, 12, Finished, Available)"
          },
          "metadata": {}
        }
      ],
      "execution_count": 7,
      "metadata": {
        "gather": {
          "logged": 1686662785977
        }
      }
    },
    {
      "cell_type": "markdown",
      "source": [
        "Create a copy of the dataframe so our data manipulation does not affect the original."
      ],
      "metadata": {}
    },
    {
      "cell_type": "code",
      "source": [
        "account_df_clean = account_df_clean.copy()"
      ],
      "outputs": [
        {
          "output_type": "display_data",
          "data": {
            "application/vnd.livy.statement-meta+json": {
              "spark_pool": "28089669-bbd5-433b-b328-2aaf792d2d3a",
              "session_id": "3",
              "statement_id": 13,
              "state": "finished",
              "livy_statement_state": "available",
              "queued_time": "2023-06-13T13:25:08.6700057Z",
              "session_start_time": null,
              "execution_start_time": "2023-06-13T13:26:25.9201016Z",
              "execution_finish_time": "2023-06-13T13:26:26.2568271Z",
              "spark_jobs": {
                "numbers": {
                  "FAILED": 0,
                  "RUNNING": 0,
                  "UNKNOWN": 0,
                  "SUCCEEDED": 0
                },
                "jobs": [],
                "limit": 20,
                "rule": "ALL_DESC"
              },
              "parent_msg_id": "d482234e-8278-4383-a9cc-24ceaa4b7b90"
            },
            "text/plain": "StatementMeta(28089669-bbd5-433b-b328-2aaf792d2d3a, 3, 13, Finished, Available)"
          },
          "metadata": {}
        }
      ],
      "execution_count": 8,
      "metadata": {
        "gather": {
          "logged": 1686662786480
        }
      }
    },
    {
      "cell_type": "markdown",
      "source": [
        "Let's ensure that values that are not numeric (e.g., they have incorrect string values or garbage data) are converted to NaN and then we can fill those NaN values with 0."
      ],
      "metadata": {}
    },
    {
      "cell_type": "code",
      "source": [
        "account_df_clean['paymentInstrumentAgeInAccount'] = pd.to_numeric(account_df_clean['paymentInstrumentAgeInAccount'], errors='coerce')\n",
        "account_df_clean['paymentInstrumentAgeInAccount'] = account_df_clean[['paymentInstrumentAgeInAccount']].fillna(0)['paymentInstrumentAgeInAccount']"
      ],
      "outputs": [
        {
          "output_type": "display_data",
          "data": {
            "application/vnd.livy.statement-meta+json": {
              "spark_pool": "28089669-bbd5-433b-b328-2aaf792d2d3a",
              "session_id": "3",
              "statement_id": 14,
              "state": "finished",
              "livy_statement_state": "available",
              "queued_time": "2023-06-13T13:25:08.9833306Z",
              "session_start_time": null,
              "execution_start_time": "2023-06-13T13:26:26.3231883Z",
              "execution_finish_time": "2023-06-13T13:26:26.6444289Z",
              "spark_jobs": {
                "numbers": {
                  "FAILED": 0,
                  "RUNNING": 0,
                  "UNKNOWN": 0,
                  "SUCCEEDED": 0
                },
                "jobs": [],
                "limit": 20,
                "rule": "ALL_DESC"
              },
              "parent_msg_id": "f907a4b8-2ff1-48c0-8c36-f6dbfd7fd2f2"
            },
            "text/plain": "StatementMeta(28089669-bbd5-433b-b328-2aaf792d2d3a, 3, 14, Finished, Available)"
          },
          "metadata": {}
        }
      ],
      "execution_count": 9,
      "metadata": {
        "gather": {
          "logged": 1686662787090
        }
      }
    },
    {
      "cell_type": "markdown",
      "source": [
        "Next, let's convert the `numPaymentRejects1dPerUser` so that the column has a datatype of `float` instead of `object`."
      ],
      "metadata": {}
    },
    {
      "cell_type": "code",
      "source": [
        "account_df_clean[\"numPaymentRejects1dPerUser\"] = account_df_clean[[\"numPaymentRejects1dPerUser\"]].astype(float)[\"numPaymentRejects1dPerUser\"]"
      ],
      "outputs": [
        {
          "output_type": "display_data",
          "data": {
            "application/vnd.livy.statement-meta+json": {
              "spark_pool": "28089669-bbd5-433b-b328-2aaf792d2d3a",
              "session_id": "3",
              "statement_id": 15,
              "state": "finished",
              "livy_statement_state": "available",
              "queued_time": "2023-06-13T13:25:09.5337802Z",
              "session_start_time": null,
              "execution_start_time": "2023-06-13T13:26:26.7299614Z",
              "execution_finish_time": "2023-06-13T13:26:27.075995Z",
              "spark_jobs": {
                "numbers": {
                  "FAILED": 0,
                  "RUNNING": 0,
                  "UNKNOWN": 0,
                  "SUCCEEDED": 0
                },
                "jobs": [],
                "limit": 20,
                "rule": "ALL_DESC"
              },
              "parent_msg_id": "3c47c882-17e2-43a8-8e40-808abee8c22a"
            },
            "text/plain": "StatementMeta(28089669-bbd5-433b-b328-2aaf792d2d3a, 3, 15, Finished, Available)"
          },
          "metadata": {}
        }
      ],
      "execution_count": 10,
      "metadata": {
        "gather": {
          "logged": 1686662787554
        }
      }
    },
    {
      "cell_type": "markdown",
      "source": [
        "Let's take a look at the results of our cleanup of this one column. Looks like the most payment declines/rejects that happen to a given user in one day happens either zero times or 1 time, and then trails off quickly. After 5 times the number of rejects per user per day is down to 136."
      ],
      "metadata": {}
    },
    {
      "cell_type": "code",
      "source": [
        "account_df_clean[\"numPaymentRejects1dPerUser\"].value_counts()"
      ],
      "outputs": [
        {
          "output_type": "display_data",
          "data": {
            "application/vnd.livy.statement-meta+json": {
              "spark_pool": "28089669-bbd5-433b-b328-2aaf792d2d3a",
              "session_id": "3",
              "statement_id": 16,
              "state": "finished",
              "livy_statement_state": "available",
              "queued_time": "2023-06-13T13:25:09.7595279Z",
              "session_start_time": null,
              "execution_start_time": "2023-06-13T13:26:27.156393Z",
              "execution_finish_time": "2023-06-13T13:26:27.523388Z",
              "spark_jobs": {
                "numbers": {
                  "FAILED": 0,
                  "RUNNING": 0,
                  "UNKNOWN": 0,
                  "SUCCEEDED": 0
                },
                "jobs": [],
                "limit": 20,
                "rule": "ALL_DESC"
              },
              "parent_msg_id": "72c71bd2-c142-43d6-9c60-9d5c99c65cf3"
            },
            "text/plain": "StatementMeta(28089669-bbd5-433b-b328-2aaf792d2d3a, 3, 16, Finished, Available)"
          },
          "metadata": {}
        },
        {
          "output_type": "execute_result",
          "execution_count": 31,
          "data": {
            "text/plain": "0.0     191382\n1.0       5500\n2.0       1476\n3.0        562\n4.0        254\n5.0        136\n6.0         51\n7.0         30\n8.0         27\n10.0        24\n9.0         14\n17.0         9\n14.0         6\n13.0         4\n16.0         3\n12.0         2\n32.0         2\n11.0         2\n18.0         1\n28.0         1\n29.0         1\n15.0         1\n26.0         1\n23.0         1\nName: numPaymentRejects1dPerUser, dtype: int64"
          },
          "metadata": {}
        }
      ],
      "execution_count": 11,
      "metadata": {
        "gather": {
          "logged": 1686662788030
        }
      }
    },
    {
      "cell_type": "markdown",
      "source": [
        "`account_df_clean` is now ready for use in modeling."
      ],
      "metadata": {}
    },
    {
      "cell_type": "markdown",
      "source": [
        "### Prepare untagged transactions\n",
        "\n",
        "Next, cleanup the untagged transactions data set. There are 16 columns in the untagged_transactions whose values are all null, let's drop these columns to simplify our dataset."
      ],
      "metadata": {}
    },
    {
      "cell_type": "code",
      "source": [
        "untagged_df_clean = untagged_df.dropna(axis=1, how=\"all\").copy()"
      ],
      "outputs": [
        {
          "output_type": "display_data",
          "data": {
            "application/vnd.livy.statement-meta+json": {
              "spark_pool": "28089669-bbd5-433b-b328-2aaf792d2d3a",
              "session_id": "3",
              "statement_id": 17,
              "state": "finished",
              "livy_statement_state": "available",
              "queued_time": "2023-06-13T13:25:09.9916458Z",
              "session_start_time": null,
              "execution_start_time": "2023-06-13T13:26:27.6138401Z",
              "execution_finish_time": "2023-06-13T13:26:29.2827711Z",
              "spark_jobs": {
                "numbers": {
                  "FAILED": 0,
                  "RUNNING": 0,
                  "UNKNOWN": 0,
                  "SUCCEEDED": 0
                },
                "jobs": [],
                "limit": 20,
                "rule": "ALL_DESC"
              },
              "parent_msg_id": "31f25bc7-71e8-45fe-8b7d-69e1f72da6dc"
            },
            "text/plain": "StatementMeta(28089669-bbd5-433b-b328-2aaf792d2d3a, 3, 17, Finished, Available)"
          },
          "metadata": {}
        }
      ],
      "execution_count": 12,
      "metadata": {
        "gather": {
          "logged": 1686662788528
        }
      }
    },
    {
      "cell_type": "markdown",
      "source": [
        "We can examine the count of non-null values, and view the inferred data type for each column by running the following cell. Looking at the output of the cell, we have some work to do. For a start, we have columns with fewer than 200,000 non-null values. This means there are some null values in that column that we need to fix."
      ],
      "metadata": {}
    },
    {
      "cell_type": "markdown",
      "source": [
        "Let's cleanup the `localHour` field. \n",
        "\n",
        "Replace null values in `localHour` with `-99`. Also replace values of `-1` with `-99`."
      ],
      "metadata": {}
    },
    {
      "cell_type": "code",
      "source": [
        "untagged_df_clean[\"localHour\"] = untagged_df_clean[\"localHour\"].fillna(-99)\n",
        "untagged_df_clean.loc[untagged_df_clean.loc[:,\"localHour\"] == -1, \"localHour\"] = -99"
      ],
      "outputs": [
        {
          "output_type": "display_data",
          "data": {
            "application/vnd.livy.statement-meta+json": {
              "spark_pool": "28089669-bbd5-433b-b328-2aaf792d2d3a",
              "session_id": "3",
              "statement_id": 18,
              "state": "finished",
              "livy_statement_state": "available",
              "queued_time": "2023-06-13T13:25:10.1476178Z",
              "session_start_time": null,
              "execution_start_time": "2023-06-13T13:26:29.344372Z",
              "execution_finish_time": "2023-06-13T13:26:29.6815113Z",
              "spark_jobs": {
                "numbers": {
                  "FAILED": 0,
                  "RUNNING": 0,
                  "UNKNOWN": 0,
                  "SUCCEEDED": 0
                },
                "jobs": [],
                "limit": 20,
                "rule": "ALL_DESC"
              },
              "parent_msg_id": "822dacbe-e3c8-4140-9907-202e70157bac"
            },
            "text/plain": "StatementMeta(28089669-bbd5-433b-b328-2aaf792d2d3a, 3, 18, Finished, Available)"
          },
          "metadata": {}
        }
      ],
      "execution_count": 13,
      "metadata": {
        "gather": {
          "logged": 1686662788927
        }
      }
    },
    {
      "cell_type": "markdown",
      "source": [
        "Confirm the values now look good."
      ],
      "metadata": {}
    },
    {
      "cell_type": "code",
      "source": [
        "untagged_df_clean[\"localHour\"].value_counts()"
      ],
      "outputs": [
        {
          "output_type": "display_data",
          "data": {
            "application/vnd.livy.statement-meta+json": {
              "spark_pool": "28089669-bbd5-433b-b328-2aaf792d2d3a",
              "session_id": "3",
              "statement_id": 19,
              "state": "finished",
              "livy_statement_state": "available",
              "queued_time": "2023-06-13T13:25:10.3419188Z",
              "session_start_time": null,
              "execution_start_time": "2023-06-13T13:26:29.7493137Z",
              "execution_finish_time": "2023-06-13T13:26:30.0902471Z",
              "spark_jobs": {
                "numbers": {
                  "FAILED": 0,
                  "RUNNING": 0,
                  "UNKNOWN": 0,
                  "SUCCEEDED": 0
                },
                "jobs": [],
                "limit": 20,
                "rule": "ALL_DESC"
              },
              "parent_msg_id": "31892b16-ca9e-42d5-8c12-0ac8ba61b14c"
            },
            "text/plain": "StatementMeta(28089669-bbd5-433b-b328-2aaf792d2d3a, 3, 19, Finished, Available)"
          },
          "metadata": {}
        },
        {
          "output_type": "execute_result",
          "execution_count": 37,
          "data": {
            "text/plain": " 13.0    12783\n 15.0    12720\n 14.0    12694\n 10.0    12439\n 11.0    12372\n 12.0    12315\n 16.0    11929\n 19.0    11880\n 20.0    11588\n 18.0    11539\n 17.0    11458\n 9.0     11200\n 21.0     9728\n 8.0      8768\n-99.0     7037\n 22.0     6986\n 7.0      5368\n 23.0     4716\n 6.0      3094\n 0.0      2944\n 1.0      1859\n 5.0      1596\n 2.0      1122\n 4.0       969\n 3.0       896\nName: localHour, dtype: int64"
          },
          "metadata": {}
        }
      ],
      "execution_count": 14,
      "metadata": {
        "gather": {
          "logged": 1686662789376
        }
      }
    },
    {
      "cell_type": "markdown",
      "source": [
        "Clean up the remaining null fields:\n",
        "- Fix missing values for location fields by setting them to `NA` for unknown. \n",
        "- Set `isProxyIP` to False\n",
        "- Set `cardType` to `U` for unknown (which is a new level)\n",
        "- Set `cvvVerifyResult` to `N` which means for those where the transaction failed because the wrong CVV2 number was entered ro no CVV2 numebr was entered, treat those as if there was no CVV2 match."
      ],
      "metadata": {}
    },
    {
      "cell_type": "code",
      "source": [
        "untagged_df_clean = untagged_df_clean.fillna(value={\"ipState\": \"NA\", \"ipPostcode\": \"NA\", \"ipCountryCode\": \"NA\", \n",
        "                               \"isProxyIP\":False, \"cardType\": \"U\", \n",
        "                               \"paymentBillingPostalCode\" : \"NA\", \"paymentBillingState\":\"NA\",\n",
        "                               \"paymentBillingCountryCode\" : \"NA\", \"cvvVerifyResult\": \"N\"\n",
        "                              })"
      ],
      "outputs": [
        {
          "output_type": "display_data",
          "data": {
            "application/vnd.livy.statement-meta+json": {
              "spark_pool": "28089669-bbd5-433b-b328-2aaf792d2d3a",
              "session_id": "3",
              "statement_id": 20,
              "state": "finished",
              "livy_statement_state": "available",
              "queued_time": "2023-06-13T13:25:10.5399087Z",
              "session_start_time": null,
              "execution_start_time": "2023-06-13T13:26:30.1658859Z",
              "execution_finish_time": "2023-06-13T13:26:31.0745426Z",
              "spark_jobs": {
                "numbers": {
                  "FAILED": 0,
                  "RUNNING": 0,
                  "UNKNOWN": 0,
                  "SUCCEEDED": 0
                },
                "jobs": [],
                "limit": 20,
                "rule": "ALL_DESC"
              },
              "parent_msg_id": "4fdd3359-c4c8-417f-a91b-66e00886b2af"
            },
            "text/plain": "StatementMeta(28089669-bbd5-433b-b328-2aaf792d2d3a, 3, 20, Finished, Available)"
          },
          "metadata": {}
        }
      ],
      "execution_count": 15,
      "metadata": {
        "gather": {
          "logged": 1686662790303
        }
      }
    },
    {
      "cell_type": "markdown",
      "source": [
        "Confirm all null values have been addressed."
      ],
      "metadata": {}
    },
    {
      "cell_type": "markdown",
      "source": [
        "The `transactionScenario` column provides no insights because all rows have the same `A` value. Let's drop that column. Same idea for the `transactionType` column."
      ],
      "metadata": {}
    },
    {
      "cell_type": "code",
      "source": [
        "del untagged_df_clean[\"transactionScenario\"]"
      ],
      "outputs": [
        {
          "output_type": "display_data",
          "data": {
            "application/vnd.livy.statement-meta+json": {
              "spark_pool": "28089669-bbd5-433b-b328-2aaf792d2d3a",
              "session_id": "3",
              "statement_id": 21,
              "state": "finished",
              "livy_statement_state": "available",
              "queued_time": "2023-06-13T13:25:10.7298751Z",
              "session_start_time": null,
              "execution_start_time": "2023-06-13T13:26:31.1580786Z",
              "execution_finish_time": "2023-06-13T13:26:31.5363415Z",
              "spark_jobs": {
                "numbers": {
                  "FAILED": 0,
                  "RUNNING": 0,
                  "UNKNOWN": 0,
                  "SUCCEEDED": 0
                },
                "jobs": [],
                "limit": 20,
                "rule": "ALL_DESC"
              },
              "parent_msg_id": "de0b4bed-3afe-422e-8348-fed91ce6a13e"
            },
            "text/plain": "StatementMeta(28089669-bbd5-433b-b328-2aaf792d2d3a, 3, 21, Finished, Available)"
          },
          "metadata": {}
        }
      ],
      "execution_count": 16,
      "metadata": {
        "gather": {
          "logged": 1686662790772
        }
      }
    },
    {
      "cell_type": "code",
      "source": [
        "del untagged_df_clean[\"transactionType\"]"
      ],
      "outputs": [
        {
          "output_type": "display_data",
          "data": {
            "application/vnd.livy.statement-meta+json": {
              "spark_pool": "28089669-bbd5-433b-b328-2aaf792d2d3a",
              "session_id": "3",
              "statement_id": 22,
              "state": "finished",
              "livy_statement_state": "available",
              "queued_time": "2023-06-13T13:25:10.9461153Z",
              "session_start_time": null,
              "execution_start_time": "2023-06-13T13:26:31.6120425Z",
              "execution_finish_time": "2023-06-13T13:26:31.9431469Z",
              "spark_jobs": {
                "numbers": {
                  "FAILED": 0,
                  "RUNNING": 0,
                  "UNKNOWN": 0,
                  "SUCCEEDED": 0
                },
                "jobs": [],
                "limit": 20,
                "rule": "ALL_DESC"
              },
              "parent_msg_id": "0215124d-8b1e-4295-afaa-fd274e5c555e"
            },
            "text/plain": "StatementMeta(28089669-bbd5-433b-b328-2aaf792d2d3a, 3, 22, Finished, Available)"
          },
          "metadata": {}
        }
      ],
      "execution_count": 17,
      "metadata": {
        "gather": {
          "logged": 1686662791220
        }
      }
    },
    {
      "cell_type": "markdown",
      "source": [
        "`untagged_df_clean` is now ready for use in modeling."
      ],
      "metadata": {}
    },
    {
      "cell_type": "markdown",
      "source": [
        "### Prepare fraud transactions\n",
        "\n",
        "Now move on to preparing the fraud transactions data set.\n",
        "\n",
        "The `transactionDeviceId` has no meaningful values, so we will drop it."
      ],
      "metadata": {}
    },
    {
      "cell_type": "code",
      "source": [
        "fraud_df_clean = fraud_df.copy()\n",
        "del fraud_df_clean['transactionDeviceId']"
      ],
      "outputs": [
        {
          "output_type": "display_data",
          "data": {
            "application/vnd.livy.statement-meta+json": {
              "spark_pool": "28089669-bbd5-433b-b328-2aaf792d2d3a",
              "session_id": "3",
              "statement_id": 23,
              "state": "finished",
              "livy_statement_state": "available",
              "queued_time": "2023-06-13T13:25:11.183734Z",
              "session_start_time": null,
              "execution_start_time": "2023-06-13T13:26:32.0313953Z",
              "execution_finish_time": "2023-06-13T13:26:32.3429776Z",
              "spark_jobs": {
                "numbers": {
                  "FAILED": 0,
                  "RUNNING": 0,
                  "UNKNOWN": 0,
                  "SUCCEEDED": 0
                },
                "jobs": [],
                "limit": 20,
                "rule": "ALL_DESC"
              },
              "parent_msg_id": "489152c4-0228-4100-bf1f-0d7ab696cd7a"
            },
            "text/plain": "StatementMeta(28089669-bbd5-433b-b328-2aaf792d2d3a, 3, 23, Finished, Available)"
          },
          "metadata": {}
        }
      ],
      "execution_count": 18,
      "metadata": {
        "gather": {
          "logged": 1686662791603
        }
      }
    },
    {
      "cell_type": "markdown",
      "source": [
        "The fraud data set has a `localHour` field that we need to fill missing values, just as we did for the account data set."
      ],
      "metadata": {}
    },
    {
      "cell_type": "code",
      "source": [
        "fraud_df_clean[\"localHour\"] = fraud_df_clean[\"localHour\"].fillna(-99)"
      ],
      "outputs": [
        {
          "output_type": "display_data",
          "data": {
            "application/vnd.livy.statement-meta+json": {
              "spark_pool": "28089669-bbd5-433b-b328-2aaf792d2d3a",
              "session_id": "3",
              "statement_id": 24,
              "state": "finished",
              "livy_statement_state": "available",
              "queued_time": "2023-06-13T13:25:11.3387106Z",
              "session_start_time": null,
              "execution_start_time": "2023-06-13T13:26:32.431466Z",
              "execution_finish_time": "2023-06-13T13:26:32.7854504Z",
              "spark_jobs": {
                "numbers": {
                  "FAILED": 0,
                  "RUNNING": 0,
                  "UNKNOWN": 0,
                  "SUCCEEDED": 0
                },
                "jobs": [],
                "limit": 20,
                "rule": "ALL_DESC"
              },
              "parent_msg_id": "a263457a-98c8-4a0d-a239-216805e5fbcc"
            },
            "text/plain": "StatementMeta(28089669-bbd5-433b-b328-2aaf792d2d3a, 3, 24, Finished, Available)"
          },
          "metadata": {}
        }
      ],
      "execution_count": 19,
      "metadata": {
        "gather": {
          "logged": 1686662792018
        }
      }
    },
    {
      "cell_type": "markdown",
      "source": [
        "Examine your work, you should have 8640 non-null values in each column."
      ],
      "metadata": {}
    },
    {
      "cell_type": "markdown",
      "source": [
        "`fraud_df_clean` is now ready for use in modeling."
      ],
      "metadata": {}
    },
    {
      "cell_type": "markdown",
      "source": [
        "## Create labels\n",
        "\n",
        "The goal is to create a dataframe with all transactions, where each transaction is tagged via the `isFraud` column with a value of `0` - no fraud or `1` - fraudulent. \n",
        "\n",
        "Any transactions that appear in untagged_transactions dataframe that also appear in the fraud dataframe will be marked as fraudulent. \n",
        "\n",
        "The remaining transactions will be marked as not fraudulent. \n",
        "\n",
        "Run the following cells to create the labels series."
      ],
      "metadata": {}
    },
    {
      "cell_type": "code",
      "source": [
        "all_labels = untagged_df_clean[\"transactionID\"].isin(fraud_df_clean[\"transactionID\"])"
      ],
      "outputs": [
        {
          "output_type": "display_data",
          "data": {
            "application/vnd.livy.statement-meta+json": {
              "spark_pool": "28089669-bbd5-433b-b328-2aaf792d2d3a",
              "session_id": "3",
              "statement_id": 25,
              "state": "finished",
              "livy_statement_state": "available",
              "queued_time": "2023-06-13T13:25:11.5003105Z",
              "session_start_time": null,
              "execution_start_time": "2023-06-13T13:26:32.8868405Z",
              "execution_finish_time": "2023-06-13T13:26:33.3002475Z",
              "spark_jobs": {
                "numbers": {
                  "FAILED": 0,
                  "RUNNING": 0,
                  "UNKNOWN": 0,
                  "SUCCEEDED": 0
                },
                "jobs": [],
                "limit": 20,
                "rule": "ALL_DESC"
              },
              "parent_msg_id": "54785584-2469-415f-b0a5-f4ae98a3aebf"
            },
            "text/plain": "StatementMeta(28089669-bbd5-433b-b328-2aaf792d2d3a, 3, 25, Finished, Available)"
          },
          "metadata": {}
        }
      ],
      "execution_count": 20,
      "metadata": {
        "gather": {
          "logged": 1686662792846
        }
      }
    },
    {
      "cell_type": "code",
      "source": [
        "all_transactions = untagged_df_clean"
      ],
      "outputs": [
        {
          "output_type": "display_data",
          "data": {
            "application/vnd.livy.statement-meta+json": {
              "spark_pool": "28089669-bbd5-433b-b328-2aaf792d2d3a",
              "session_id": "3",
              "statement_id": 26,
              "state": "finished",
              "livy_statement_state": "available",
              "queued_time": "2023-06-13T13:25:11.6857846Z",
              "session_start_time": null,
              "execution_start_time": "2023-06-13T13:26:33.3818053Z",
              "execution_finish_time": "2023-06-13T13:26:33.7260208Z",
              "spark_jobs": {
                "numbers": {
                  "FAILED": 0,
                  "RUNNING": 0,
                  "UNKNOWN": 0,
                  "SUCCEEDED": 0
                },
                "jobs": [],
                "limit": 20,
                "rule": "ALL_DESC"
              },
              "parent_msg_id": "6a2db0e8-1557-4c41-92d6-b32a4aa99be1"
            },
            "text/plain": "StatementMeta(28089669-bbd5-433b-b328-2aaf792d2d3a, 3, 26, Finished, Available)"
          },
          "metadata": {}
        }
      ],
      "execution_count": 21,
      "metadata": {
        "gather": {
          "logged": 1686662793281
        }
      }
    },
    {
      "cell_type": "markdown",
      "source": [
        "## Create feature engineering pipeline\n",
        "\n",
        "In the following cells we will define two custom estimators that will be used in pipeline to prepare the data.\n",
        "\n",
        "We collect these estimators in a module and then save this module file in the models directory. Then we will use the classes in this module during both model training and model scoring. During deployment, when you register the model using `Model.register` (as we do later in `deployModelAsWebService`), all files in the models directory are uploaded with the model.\n",
        "\n",
        "The module containing the estimators used to transform the data before scoring needs to be deployed with the model. This ensures that the code can be executed in the context of the webservice, when the serialized pipeline is loaded and used for scoring. \n",
        "\n",
        "First we need to create the models directory if it does not already exist."
      ],
      "metadata": {}
    },
    {
      "cell_type": "code",
      "source": [
        "import uuid\n",
        "import os\n",
        "\n",
        "# Create a temporary folder to store locally relevant content for this notebook\n",
        "tempFolderName = 'FileStore/mcw_cdb_{0}'.format(uuid.uuid4())\n",
        "\n",
        "models_dir = tempFolderName + \"/models/\"\n",
        "if not os.path.exists(models_dir):\n",
        "    os.makedirs(models_dir)"
      ],
      "outputs": [
        {
          "output_type": "display_data",
          "data": {
            "application/vnd.livy.statement-meta+json": {
              "spark_pool": "28089669-bbd5-433b-b328-2aaf792d2d3a",
              "session_id": "3",
              "statement_id": 27,
              "state": "finished",
              "livy_statement_state": "available",
              "queued_time": "2023-06-13T13:25:11.8396855Z",
              "session_start_time": null,
              "execution_start_time": "2023-06-13T13:26:33.796525Z",
              "execution_finish_time": "2023-06-13T13:26:35.4197216Z",
              "spark_jobs": {
                "numbers": {
                  "FAILED": 0,
                  "RUNNING": 0,
                  "UNKNOWN": 0,
                  "SUCCEEDED": 0
                },
                "jobs": [],
                "limit": 20,
                "rule": "ALL_DESC"
              },
              "parent_msg_id": "41be2e8f-9d5d-4857-b941-b82ca1a4f81c"
            },
            "text/plain": "StatementMeta(28089669-bbd5-433b-b328-2aaf792d2d3a, 3, 27, Finished, Available)"
          },
          "metadata": {}
        }
      ],
      "execution_count": 22,
      "metadata": {
        "gather": {
          "logged": 1686662794903
        }
      }
    },
    {
      "cell_type": "markdown",
      "source": [
        "Then we can save our estimators module."
      ],
      "metadata": {}
    },
    {
      "cell_type": "code",
      "source": [
        "# write out to models/customestimators.py\n",
        "scoring_service = \"\"\"\n",
        "import pandas as pd\n",
        "from sklearn.base import BaseEstimator, TransformerMixin\n",
        "class NumericCleaner(BaseEstimator, TransformerMixin):\n",
        "    def __init__(self):\n",
        "        self = self\n",
        "    def fit(self, X, y=None):\n",
        "        print(\"NumericCleaner.fit called\")\n",
        "        return self\n",
        "    def transform(self, X):\n",
        "        print(\"NumericCleaner.transform called\")\n",
        "        X[\"localHour\"] = X[\"localHour\"].fillna(-99)\n",
        "        X.loc[X.loc[:,\"localHour\"] == -1, \"localHour\"] = -99\n",
        "        return X\n",
        "\n",
        "class CategoricalCleaner(BaseEstimator, TransformerMixin):\n",
        "    def __init__(self):\n",
        "        self = self\n",
        "    def fit(self, X, y=None):\n",
        "        print(\"CategoricalCleaner.fit called\")\n",
        "        return self\n",
        "    def transform(self, X):\n",
        "        print(\"CategoricalCleaner.transform called\")\n",
        "        X = X.fillna(value={\"cardType\":\"U\",\"cvvVerifyResult\": \"N\"})\n",
        "        return X\n",
        "\"\"\" \n",
        "\n",
        "with open(models_dir + \"customestimators.py\", \"w\") as file:\n",
        "    file.write(scoring_service)"
      ],
      "outputs": [
        {
          "output_type": "display_data",
          "data": {
            "application/vnd.livy.statement-meta+json": {
              "spark_pool": "28089669-bbd5-433b-b328-2aaf792d2d3a",
              "session_id": "3",
              "statement_id": 28,
              "state": "finished",
              "livy_statement_state": "available",
              "queued_time": "2023-06-13T13:25:11.9998149Z",
              "session_start_time": null,
              "execution_start_time": "2023-06-13T13:26:35.5202342Z",
              "execution_finish_time": "2023-06-13T13:26:36.4638314Z",
              "spark_jobs": {
                "numbers": {
                  "FAILED": 0,
                  "RUNNING": 0,
                  "UNKNOWN": 0,
                  "SUCCEEDED": 0
                },
                "jobs": [],
                "limit": 20,
                "rule": "ALL_DESC"
              },
              "parent_msg_id": "3898f47b-521d-4f8e-8e17-3ced9ef64f15"
            },
            "text/plain": "StatementMeta(28089669-bbd5-433b-b328-2aaf792d2d3a, 3, 28, Finished, Available)"
          },
          "metadata": {}
        }
      ],
      "execution_count": 23,
      "metadata": {
        "gather": {
          "logged": 1686662795677
        }
      }
    },
    {
      "cell_type": "markdown",
      "source": [
        "You need to add the created module to our python search path so it can be found and loaded in this notebook environment:"
      ],
      "metadata": {}
    },
    {
      "cell_type": "code",
      "source": [
        "import sys\n",
        "from os.path import dirname\n",
        "sys.path.append(models_dir)"
      ],
      "outputs": [
        {
          "output_type": "display_data",
          "data": {
            "application/vnd.livy.statement-meta+json": {
              "spark_pool": "28089669-bbd5-433b-b328-2aaf792d2d3a",
              "session_id": "3",
              "statement_id": 29,
              "state": "finished",
              "livy_statement_state": "available",
              "queued_time": "2023-06-13T13:25:12.1578763Z",
              "session_start_time": null,
              "execution_start_time": "2023-06-13T13:26:36.5580915Z",
              "execution_finish_time": "2023-06-13T13:26:36.9265317Z",
              "spark_jobs": {
                "numbers": {
                  "FAILED": 0,
                  "RUNNING": 0,
                  "UNKNOWN": 0,
                  "SUCCEEDED": 0
                },
                "jobs": [],
                "limit": 20,
                "rule": "ALL_DESC"
              },
              "parent_msg_id": "79dfbf4b-a7e8-4a6b-b398-e58753ec6200"
            },
            "text/plain": "StatementMeta(28089669-bbd5-433b-b328-2aaf792d2d3a, 3, 29, Finished, Available)"
          },
          "metadata": {}
        }
      ],
      "execution_count": 24,
      "metadata": {
        "gather": {
          "logged": 1686662796140
        }
      }
    },
    {
      "cell_type": "markdown",
      "source": [
        "Next, load the estimators."
      ],
      "metadata": {}
    },
    {
      "cell_type": "code",
      "source": [
        "from customestimators import NumericCleaner, CategoricalCleaner"
      ],
      "outputs": [
        {
          "output_type": "display_data",
          "data": {
            "application/vnd.livy.statement-meta+json": {
              "spark_pool": "28089669-bbd5-433b-b328-2aaf792d2d3a",
              "session_id": "3",
              "statement_id": 30,
              "state": "finished",
              "livy_statement_state": "available",
              "queued_time": "2023-06-13T13:25:12.3387755Z",
              "session_start_time": null,
              "execution_start_time": "2023-06-13T13:26:37.0145233Z",
              "execution_finish_time": "2023-06-13T13:26:38.6221343Z",
              "spark_jobs": {
                "numbers": {
                  "FAILED": 0,
                  "RUNNING": 0,
                  "UNKNOWN": 0,
                  "SUCCEEDED": 0
                },
                "jobs": [],
                "limit": 20,
                "rule": "ALL_DESC"
              },
              "parent_msg_id": "53b585d3-143b-40c9-a518-64ae553dfca5"
            },
            "text/plain": "StatementMeta(28089669-bbd5-433b-b328-2aaf792d2d3a, 3, 30, Finished, Available)"
          },
          "metadata": {}
        }
      ],
      "execution_count": 25,
      "metadata": {
        "gather": {
          "logged": 1686662797874
        }
      }
    },
    {
      "cell_type": "markdown",
      "source": [
        "Now build the pipeline that will prepare the data. \n",
        "\n",
        "The gist of the following cell is to split the data preparation into two paths, splitting the data sets vertically, and then combine the result. The `ColumnTransformer` will effectively concatenate the data frame that results from the numeric transformations with the data frame resulting from the categorical transformations. \n",
        "\n",
        "- Numeric Transformer Pipeline: We use the custom transformers created previously to cleanup the numeric columns. Since the model you will train in this notebook is a Support Vector Machine classifier, we need to standardize the scale of numeric values which is what the `StandardScaler` provides.\n",
        "- Categorical Transformer Pipeline: We use the custome transformer created previously cleanup the categorical columns. Then we one-hot encode each value of each categorical column, resulting in a wider data frame with one column for each possible value (and 1 appearing in rows that had that value)."
      ],
      "metadata": {}
    },
    {
      "cell_type": "code",
      "source": [
        "from sklearn.pipeline import Pipeline\n",
        "from sklearn.compose import ColumnTransformer\n",
        "from sklearn.preprocessing import OneHotEncoder, StandardScaler\n",
        "\n",
        "numeric_features=[\"transactionAmountUSD\", \"transactionDate\", \"transactionTime\", \"localHour\", \n",
        "                  \"transactionIPaddress\", \"digitalItemCount\", \"physicalItemCount\"]\n",
        "\n",
        "categorical_features=[\"transactionCurrencyCode\", \"browserLanguage\", \"paymentInstrumentType\", \"cardType\", \"cvvVerifyResult\"]                           \n",
        "\n",
        "numeric_transformer = Pipeline(steps=[\n",
        "    ('cleaner', NumericCleaner()),\n",
        "    ('scaler', StandardScaler())\n",
        "])\n",
        "                               \n",
        "categorical_transformer = Pipeline(steps=[\n",
        "    ('cleaner', CategoricalCleaner()),\n",
        "    ('onehot', OneHotEncoder(handle_unknown='ignore'))])\n",
        "\n",
        "preprocessor = ColumnTransformer(\n",
        "    transformers=[\n",
        "        ('num', numeric_transformer, numeric_features),\n",
        "        ('cat', categorical_transformer, categorical_features)\n",
        "    ])"
      ],
      "outputs": [
        {
          "output_type": "display_data",
          "data": {
            "application/vnd.livy.statement-meta+json": {
              "spark_pool": "28089669-bbd5-433b-b328-2aaf792d2d3a",
              "session_id": "3",
              "statement_id": 31,
              "state": "finished",
              "livy_statement_state": "available",
              "queued_time": "2023-06-13T13:25:12.5457665Z",
              "session_start_time": null,
              "execution_start_time": "2023-06-13T13:26:38.7196511Z",
              "execution_finish_time": "2023-06-13T13:26:39.097391Z",
              "spark_jobs": {
                "numbers": {
                  "FAILED": 0,
                  "RUNNING": 0,
                  "UNKNOWN": 0,
                  "SUCCEEDED": 0
                },
                "jobs": [],
                "limit": 20,
                "rule": "ALL_DESC"
              },
              "parent_msg_id": "b0203f01-9951-4281-ab3b-893bf3a399cc"
            },
            "text/plain": "StatementMeta(28089669-bbd5-433b-b328-2aaf792d2d3a, 3, 31, Finished, Available)"
          },
          "metadata": {}
        }
      ],
      "execution_count": 26,
      "metadata": {
        "gather": {
          "logged": 1686662798409
        }
      }
    },
    {
      "cell_type": "code",
      "source": [
        "import sklearn\n",
        "print(sklearn.__version__)"
      ],
      "outputs": [
        {
          "output_type": "display_data",
          "data": {
            "application/vnd.livy.statement-meta+json": {
              "spark_pool": "28089669-bbd5-433b-b328-2aaf792d2d3a",
              "session_id": "3",
              "statement_id": 32,
              "state": "finished",
              "livy_statement_state": "available",
              "queued_time": "2023-06-13T13:25:12.7098443Z",
              "session_start_time": null,
              "execution_start_time": "2023-06-13T13:26:39.1839785Z",
              "execution_finish_time": "2023-06-13T13:26:39.520941Z",
              "spark_jobs": {
                "numbers": {
                  "FAILED": 0,
                  "RUNNING": 0,
                  "UNKNOWN": 0,
                  "SUCCEEDED": 0
                },
                "jobs": [],
                "limit": 20,
                "rule": "ALL_DESC"
              },
              "parent_msg_id": "9f76b572-0b6d-44e8-bd31-7147a63717b8"
            },
            "text/plain": "StatementMeta(28089669-bbd5-433b-b328-2aaf792d2d3a, 3, 32, Finished, Available)"
          },
          "metadata": {}
        },
        {
          "output_type": "stream",
          "name": "stdout",
          "text": "0.23.2\n"
        }
      ],
      "execution_count": 27,
      "metadata": {
        "gather": {
          "logged": 1686662798815
        }
      }
    },
    {
      "cell_type": "markdown",
      "source": [
        "Let's confirm we run all our historical data thru this transformation pipeline and observe the resulting shape."
      ],
      "metadata": {}
    },
    {
      "cell_type": "code",
      "source": [
        "preprocessed_result = preprocessor.fit_transform(all_transactions)"
      ],
      "outputs": [
        {
          "output_type": "display_data",
          "data": {
            "application/vnd.livy.statement-meta+json": {
              "spark_pool": "28089669-bbd5-433b-b328-2aaf792d2d3a",
              "session_id": "3",
              "statement_id": 33,
              "state": "finished",
              "livy_statement_state": "available",
              "queued_time": "2023-06-13T13:25:12.8992189Z",
              "session_start_time": null,
              "execution_start_time": "2023-06-13T13:26:39.6122045Z",
              "execution_finish_time": "2023-06-13T13:26:40.4836799Z",
              "spark_jobs": {
                "numbers": {
                  "FAILED": 0,
                  "RUNNING": 0,
                  "UNKNOWN": 0,
                  "SUCCEEDED": 0
                },
                "jobs": [],
                "limit": 20,
                "rule": "ALL_DESC"
              },
              "parent_msg_id": "03492a52-ca01-4aca-8fc9-db2731f316ec"
            },
            "text/plain": "StatementMeta(28089669-bbd5-433b-b328-2aaf792d2d3a, 3, 33, Finished, Available)"
          },
          "metadata": {}
        },
        {
          "output_type": "stream",
          "name": "stdout",
          "text": "NumericCleaner.fit called\nNumericCleaner.transform called\nCategoricalCleaner.fit called\nCategoricalCleaner.transform called\n"
        }
      ],
      "execution_count": 28,
      "metadata": {
        "gather": {
          "logged": 1686662799779
        }
      }
    },
    {
      "cell_type": "code",
      "source": [
        "preprocessed_result.shape"
      ],
      "outputs": [
        {
          "output_type": "display_data",
          "data": {
            "application/vnd.livy.statement-meta+json": {
              "spark_pool": "28089669-bbd5-433b-b328-2aaf792d2d3a",
              "session_id": "3",
              "statement_id": 34,
              "state": "finished",
              "livy_statement_state": "available",
              "queued_time": "2023-06-13T13:25:13.1587561Z",
              "session_start_time": null,
              "execution_start_time": "2023-06-13T13:26:40.5657157Z",
              "execution_finish_time": "2023-06-13T13:26:40.9001308Z",
              "spark_jobs": {
                "numbers": {
                  "FAILED": 0,
                  "RUNNING": 0,
                  "UNKNOWN": 0,
                  "SUCCEEDED": 0
                },
                "jobs": [],
                "limit": 20,
                "rule": "ALL_DESC"
              },
              "parent_msg_id": "fbd4e66f-2557-459c-b8e4-3ee59597b20e"
            },
            "text/plain": "StatementMeta(28089669-bbd5-433b-b328-2aaf792d2d3a, 3, 34, Finished, Available)"
          },
          "metadata": {}
        },
        {
          "output_type": "execute_result",
          "execution_count": 67,
          "data": {
            "text/plain": "(200000, 292)"
          },
          "metadata": {}
        }
      ],
      "execution_count": 29,
      "metadata": {
        "gather": {
          "logged": 1686662800375
        }
      }
    },
    {
      "cell_type": "code",
      "source": [
        "pd.DataFrame(preprocessed_result.todense())"
      ],
      "outputs": [
        {
          "output_type": "display_data",
          "data": {
            "application/vnd.livy.statement-meta+json": {
              "spark_pool": "28089669-bbd5-433b-b328-2aaf792d2d3a",
              "session_id": "3",
              "statement_id": 35,
              "state": "finished",
              "livy_statement_state": "available",
              "queued_time": "2023-06-13T13:25:13.3432947Z",
              "session_start_time": null,
              "execution_start_time": "2023-06-13T13:26:40.9663647Z",
              "execution_finish_time": "2023-06-13T13:26:41.8743736Z",
              "spark_jobs": {
                "numbers": {
                  "FAILED": 0,
                  "RUNNING": 0,
                  "UNKNOWN": 0,
                  "SUCCEEDED": 0
                },
                "jobs": [],
                "limit": 20,
                "rule": "ALL_DESC"
              },
              "parent_msg_id": "87617751-4581-42d6-b3fe-8a64d4c36433"
            },
            "text/plain": "StatementMeta(28089669-bbd5-433b-b328-2aaf792d2d3a, 3, 35, Finished, Available)"
          },
          "metadata": {}
        },
        {
          "output_type": "execute_result",
          "execution_count": 69,
          "data": {
            "text/plain": "             0         1         2         3         4         5         6    \\\n0      -0.152051 -1.422822 -0.516830  0.417653  0.265748  0.218614 -0.357016   \n1       0.555361 -1.422822 -0.527675 -5.086697  1.964129 -1.403816  0.593898   \n2      -0.039733 -1.422822 -0.513828 -0.002170 -0.216818  0.218614 -0.357016   \n3       2.533650 -1.422822 -0.407303  0.184418 -0.239646 -1.403816  3.446637   \n4       0.150220 -1.422822 -0.399612  0.044477 -0.199231  0.218614 -0.357016   \n...          ...       ...       ...       ...       ...       ...       ...   \n199995 -0.109464  1.551414  0.877384  0.184418  0.999445  0.218614 -0.357016   \n199996 -0.148567  1.551414  0.935357  0.510947  1.912156  0.218614 -0.357016   \n199997  0.277925  1.551414  0.877398  0.184418  1.964129 -1.403816  0.593898   \n199998 -0.136933  1.551414  0.946935  0.604241 -0.200376  0.218614 -0.357016   \n199999 -0.099255  1.551414  0.952081  0.231065  1.838983  0.218614 -0.357016   \n\n        7    8    9    ...  282  283  284  285  286  287  288  289  290  291  \n0       0.0  1.0  0.0  ...  0.0  0.0  1.0  1.0  0.0  0.0  0.0  0.0  0.0  0.0  \n1       0.0  1.0  0.0  ...  0.0  0.0  1.0  1.0  0.0  0.0  0.0  0.0  0.0  0.0  \n2       0.0  0.0  0.0  ...  1.0  0.0  0.0  1.0  0.0  0.0  0.0  0.0  0.0  0.0  \n3       0.0  0.0  0.0  ...  0.0  0.0  0.0  1.0  0.0  0.0  0.0  0.0  0.0  0.0  \n4       0.0  0.0  0.0  ...  0.0  0.0  1.0  0.0  0.0  0.0  0.0  1.0  0.0  0.0  \n...     ...  ...  ...  ...  ...  ...  ...  ...  ...  ...  ...  ...  ...  ...  \n199995  0.0  0.0  0.0  ...  0.0  0.0  1.0  1.0  0.0  0.0  0.0  0.0  0.0  0.0  \n199996  0.0  0.0  0.0  ...  0.0  1.0  0.0  0.0  1.0  0.0  0.0  0.0  0.0  0.0  \n199997  0.0  0.0  0.0  ...  0.0  0.0  0.0  1.0  0.0  0.0  0.0  0.0  0.0  0.0  \n199998  0.0  0.0  0.0  ...  1.0  0.0  0.0  1.0  0.0  0.0  0.0  0.0  0.0  0.0  \n199999  0.0  0.0  0.0  ...  0.0  0.0  0.0  1.0  0.0  0.0  0.0  0.0  0.0  0.0  \n\n[200000 rows x 292 columns]",
            "text/html": "<div>\n<style scoped>\n    .dataframe tbody tr th:only-of-type {\n        vertical-align: middle;\n    }\n\n    .dataframe tbody tr th {\n        vertical-align: top;\n    }\n\n    .dataframe thead th {\n        text-align: right;\n    }\n</style>\n<table border=\"1\" class=\"dataframe\">\n  <thead>\n    <tr style=\"text-align: right;\">\n      <th></th>\n      <th>0</th>\n      <th>1</th>\n      <th>2</th>\n      <th>3</th>\n      <th>4</th>\n      <th>5</th>\n      <th>6</th>\n      <th>7</th>\n      <th>8</th>\n      <th>9</th>\n      <th>...</th>\n      <th>282</th>\n      <th>283</th>\n      <th>284</th>\n      <th>285</th>\n      <th>286</th>\n      <th>287</th>\n      <th>288</th>\n      <th>289</th>\n      <th>290</th>\n      <th>291</th>\n    </tr>\n  </thead>\n  <tbody>\n    <tr>\n      <th>0</th>\n      <td>-0.152051</td>\n      <td>-1.422822</td>\n      <td>-0.516830</td>\n      <td>0.417653</td>\n      <td>0.265748</td>\n      <td>0.218614</td>\n      <td>-0.357016</td>\n      <td>0.0</td>\n      <td>1.0</td>\n      <td>0.0</td>\n      <td>...</td>\n      <td>0.0</td>\n      <td>0.0</td>\n      <td>1.0</td>\n      <td>1.0</td>\n      <td>0.0</td>\n      <td>0.0</td>\n      <td>0.0</td>\n      <td>0.0</td>\n      <td>0.0</td>\n      <td>0.0</td>\n    </tr>\n    <tr>\n      <th>1</th>\n      <td>0.555361</td>\n      <td>-1.422822</td>\n      <td>-0.527675</td>\n      <td>-5.086697</td>\n      <td>1.964129</td>\n      <td>-1.403816</td>\n      <td>0.593898</td>\n      <td>0.0</td>\n      <td>1.0</td>\n      <td>0.0</td>\n      <td>...</td>\n      <td>0.0</td>\n      <td>0.0</td>\n      <td>1.0</td>\n      <td>1.0</td>\n      <td>0.0</td>\n      <td>0.0</td>\n      <td>0.0</td>\n      <td>0.0</td>\n      <td>0.0</td>\n      <td>0.0</td>\n    </tr>\n    <tr>\n      <th>2</th>\n      <td>-0.039733</td>\n      <td>-1.422822</td>\n      <td>-0.513828</td>\n      <td>-0.002170</td>\n      <td>-0.216818</td>\n      <td>0.218614</td>\n      <td>-0.357016</td>\n      <td>0.0</td>\n      <td>0.0</td>\n      <td>0.0</td>\n      <td>...</td>\n      <td>1.0</td>\n      <td>0.0</td>\n      <td>0.0</td>\n      <td>1.0</td>\n      <td>0.0</td>\n      <td>0.0</td>\n      <td>0.0</td>\n      <td>0.0</td>\n      <td>0.0</td>\n      <td>0.0</td>\n    </tr>\n    <tr>\n      <th>3</th>\n      <td>2.533650</td>\n      <td>-1.422822</td>\n      <td>-0.407303</td>\n      <td>0.184418</td>\n      <td>-0.239646</td>\n      <td>-1.403816</td>\n      <td>3.446637</td>\n      <td>0.0</td>\n      <td>0.0</td>\n      <td>0.0</td>\n      <td>...</td>\n      <td>0.0</td>\n      <td>0.0</td>\n      <td>0.0</td>\n      <td>1.0</td>\n      <td>0.0</td>\n      <td>0.0</td>\n      <td>0.0</td>\n      <td>0.0</td>\n      <td>0.0</td>\n      <td>0.0</td>\n    </tr>\n    <tr>\n      <th>4</th>\n      <td>0.150220</td>\n      <td>-1.422822</td>\n      <td>-0.399612</td>\n      <td>0.044477</td>\n      <td>-0.199231</td>\n      <td>0.218614</td>\n      <td>-0.357016</td>\n      <td>0.0</td>\n      <td>0.0</td>\n      <td>0.0</td>\n      <td>...</td>\n      <td>0.0</td>\n      <td>0.0</td>\n      <td>1.0</td>\n      <td>0.0</td>\n      <td>0.0</td>\n      <td>0.0</td>\n      <td>0.0</td>\n      <td>1.0</td>\n      <td>0.0</td>\n      <td>0.0</td>\n    </tr>\n    <tr>\n      <th>...</th>\n      <td>...</td>\n      <td>...</td>\n      <td>...</td>\n      <td>...</td>\n      <td>...</td>\n      <td>...</td>\n      <td>...</td>\n      <td>...</td>\n      <td>...</td>\n      <td>...</td>\n      <td>...</td>\n      <td>...</td>\n      <td>...</td>\n      <td>...</td>\n      <td>...</td>\n      <td>...</td>\n      <td>...</td>\n      <td>...</td>\n      <td>...</td>\n      <td>...</td>\n      <td>...</td>\n    </tr>\n    <tr>\n      <th>199995</th>\n      <td>-0.109464</td>\n      <td>1.551414</td>\n      <td>0.877384</td>\n      <td>0.184418</td>\n      <td>0.999445</td>\n      <td>0.218614</td>\n      <td>-0.357016</td>\n      <td>0.0</td>\n      <td>0.0</td>\n      <td>0.0</td>\n      <td>...</td>\n      <td>0.0</td>\n      <td>0.0</td>\n      <td>1.0</td>\n      <td>1.0</td>\n      <td>0.0</td>\n      <td>0.0</td>\n      <td>0.0</td>\n      <td>0.0</td>\n      <td>0.0</td>\n      <td>0.0</td>\n    </tr>\n    <tr>\n      <th>199996</th>\n      <td>-0.148567</td>\n      <td>1.551414</td>\n      <td>0.935357</td>\n      <td>0.510947</td>\n      <td>1.912156</td>\n      <td>0.218614</td>\n      <td>-0.357016</td>\n      <td>0.0</td>\n      <td>0.0</td>\n      <td>0.0</td>\n      <td>...</td>\n      <td>0.0</td>\n      <td>1.0</td>\n      <td>0.0</td>\n      <td>0.0</td>\n      <td>1.0</td>\n      <td>0.0</td>\n      <td>0.0</td>\n      <td>0.0</td>\n      <td>0.0</td>\n      <td>0.0</td>\n    </tr>\n    <tr>\n      <th>199997</th>\n      <td>0.277925</td>\n      <td>1.551414</td>\n      <td>0.877398</td>\n      <td>0.184418</td>\n      <td>1.964129</td>\n      <td>-1.403816</td>\n      <td>0.593898</td>\n      <td>0.0</td>\n      <td>0.0</td>\n      <td>0.0</td>\n      <td>...</td>\n      <td>0.0</td>\n      <td>0.0</td>\n      <td>0.0</td>\n      <td>1.0</td>\n      <td>0.0</td>\n      <td>0.0</td>\n      <td>0.0</td>\n      <td>0.0</td>\n      <td>0.0</td>\n      <td>0.0</td>\n    </tr>\n    <tr>\n      <th>199998</th>\n      <td>-0.136933</td>\n      <td>1.551414</td>\n      <td>0.946935</td>\n      <td>0.604241</td>\n      <td>-0.200376</td>\n      <td>0.218614</td>\n      <td>-0.357016</td>\n      <td>0.0</td>\n      <td>0.0</td>\n      <td>0.0</td>\n      <td>...</td>\n      <td>1.0</td>\n      <td>0.0</td>\n      <td>0.0</td>\n      <td>1.0</td>\n      <td>0.0</td>\n      <td>0.0</td>\n      <td>0.0</td>\n      <td>0.0</td>\n      <td>0.0</td>\n      <td>0.0</td>\n    </tr>\n    <tr>\n      <th>199999</th>\n      <td>-0.099255</td>\n      <td>1.551414</td>\n      <td>0.952081</td>\n      <td>0.231065</td>\n      <td>1.838983</td>\n      <td>0.218614</td>\n      <td>-0.357016</td>\n      <td>0.0</td>\n      <td>0.0</td>\n      <td>0.0</td>\n      <td>...</td>\n      <td>0.0</td>\n      <td>0.0</td>\n      <td>0.0</td>\n      <td>1.0</td>\n      <td>0.0</td>\n      <td>0.0</td>\n      <td>0.0</td>\n      <td>0.0</td>\n      <td>0.0</td>\n      <td>0.0</td>\n    </tr>\n  </tbody>\n</table>\n<p>200000 rows × 292 columns</p>\n</div>"
          },
          "metadata": {}
        }
      ],
      "execution_count": 30,
      "metadata": {
        "gather": {
          "logged": 1686662801338
        }
      }
    },
    {
      "cell_type": "markdown",
      "source": [
        "## Create pipeline and train a simple model\n",
        "\n",
        "Now you will build upon the transformation pipeline you created previously to train a model to classify rows as fraudulent or not fraudulent.\n",
        "\n",
        "Run the following cells to make sure you've imported the dependencies for the pipeline (you probably already have, but having them clearly loaded here will help you when porting your code to a web service)."
      ],
      "metadata": {}
    },
    {
      "cell_type": "code",
      "source": [
        "from customestimators import NumericCleaner, CategoricalCleaner\n",
        "from sklearn.model_selection import train_test_split"
      ],
      "outputs": [
        {
          "output_type": "display_data",
          "data": {
            "application/vnd.livy.statement-meta+json": {
              "spark_pool": "28089669-bbd5-433b-b328-2aaf792d2d3a",
              "session_id": "3",
              "statement_id": 36,
              "state": "finished",
              "livy_statement_state": "available",
              "queued_time": "2023-06-13T13:25:13.543576Z",
              "session_start_time": null,
              "execution_start_time": "2023-06-13T13:26:41.9479987Z",
              "execution_finish_time": "2023-06-13T13:26:42.3032576Z",
              "spark_jobs": {
                "numbers": {
                  "FAILED": 0,
                  "RUNNING": 0,
                  "UNKNOWN": 0,
                  "SUCCEEDED": 0
                },
                "jobs": [],
                "limit": 20,
                "rule": "ALL_DESC"
              },
              "parent_msg_id": "43a4797b-2793-4a1e-b556-11b4db0a5f98"
            },
            "text/plain": "StatementMeta(28089669-bbd5-433b-b328-2aaf792d2d3a, 3, 36, Finished, Available)"
          },
          "metadata": {}
        }
      ],
      "execution_count": 31,
      "metadata": {
        "gather": {
          "logged": 1686662801853
        }
      }
    },
    {
      "cell_type": "markdown",
      "source": [
        "As might be obvious, our data has a lot of samples that are not fraudulent. If we proceed to train a model, we will effectively train the model to predict non-fraud. This situation where one class (non-fraud) appears much more often than the others (fraud) is called a class imbalance, and to mitigate its effect we can reduce the number of non-fraud samples so that we have the same number of non-fraud and fraud samples. \n",
        "\n",
        "Run the following cells to downsize and then randomly sample 1,151 non-fraud rows, and then we'll union these row with our 1,151 fraud rows.\n",
        "\n",
        "> Feel free to ignore any `SettingWithCopyWarning` warnings in the cell output below."
      ],
      "metadata": {}
    },
    {
      "cell_type": "code",
      "source": [
        "only_fraud_samples = all_transactions.loc[all_labels == True]\n",
        "only_fraud_samples[\"label\"] = True\n",
        "only_non_fraud_samples = all_transactions.loc[all_labels == False]\n",
        "only_non_fraud_samples[\"label\"] = False\n",
        "random_non_fraud_samples = only_non_fraud_samples.sample(n=1151, replace=False, random_state=42)\n",
        "balanced_transactions = random_non_fraud_samples.append(only_fraud_samples)\n",
        "\n",
        "balanced_transactions[\"label\"].value_counts()"
      ],
      "outputs": [
        {
          "output_type": "display_data",
          "data": {
            "application/vnd.livy.statement-meta+json": {
              "spark_pool": "28089669-bbd5-433b-b328-2aaf792d2d3a",
              "session_id": "3",
              "statement_id": 37,
              "state": "finished",
              "livy_statement_state": "available",
              "queued_time": "2023-06-13T13:25:13.7255411Z",
              "session_start_time": null,
              "execution_start_time": "2023-06-13T13:26:42.3820172Z",
              "execution_finish_time": "2023-06-13T13:26:42.7382515Z",
              "spark_jobs": {
                "numbers": {
                  "FAILED": 0,
                  "RUNNING": 0,
                  "UNKNOWN": 0,
                  "SUCCEEDED": 0
                },
                "jobs": [],
                "limit": 20,
                "rule": "ALL_DESC"
              },
              "parent_msg_id": "83fab14a-e620-48d4-af84-7ba5b528dee2"
            },
            "text/plain": "StatementMeta(28089669-bbd5-433b-b328-2aaf792d2d3a, 3, 37, Finished, Available)"
          },
          "metadata": {}
        },
        {
          "output_type": "stream",
          "name": "stderr",
          "text": "/tmp/ipykernel_25943/2698239665.py:2: SettingWithCopyWarning: \nA value is trying to be set on a copy of a slice from a DataFrame.\nTry using .loc[row_indexer,col_indexer] = value instead\n\nSee the caveats in the documentation: https://pandas.pydata.org/pandas-docs/stable/user_guide/indexing.html#returning-a-view-versus-a-copy\n  only_fraud_samples[\"label\"] = True\n/tmp/ipykernel_25943/2698239665.py:4: SettingWithCopyWarning: \nA value is trying to be set on a copy of a slice from a DataFrame.\nTry using .loc[row_indexer,col_indexer] = value instead\n\nSee the caveats in the documentation: https://pandas.pydata.org/pandas-docs/stable/user_guide/indexing.html#returning-a-view-versus-a-copy\n  only_non_fraud_samples[\"label\"] = False\n"
        },
        {
          "output_type": "execute_result",
          "execution_count": 73,
          "data": {
            "text/plain": "False    1151\nTrue     1151\nName: label, dtype: int64"
          },
          "metadata": {}
        }
      ],
      "execution_count": 32,
      "metadata": {
        "gather": {
          "logged": 1686662802511
        }
      }
    },
    {
      "cell_type": "markdown",
      "source": [
        "Next, you need to separate out the label column from the dataframe so the labels are not used as input features:"
      ],
      "metadata": {}
    },
    {
      "cell_type": "code",
      "source": [
        "balanced_labels = balanced_transactions[\"label\"]\n",
        "del balanced_transactions[\"label\"]"
      ],
      "outputs": [
        {
          "output_type": "display_data",
          "data": {
            "application/vnd.livy.statement-meta+json": {
              "spark_pool": "28089669-bbd5-433b-b328-2aaf792d2d3a",
              "session_id": "3",
              "statement_id": 38,
              "state": "finished",
              "livy_statement_state": "available",
              "queued_time": "2023-06-13T13:25:13.9010773Z",
              "session_start_time": null,
              "execution_start_time": "2023-06-13T13:26:42.8074077Z",
              "execution_finish_time": "2023-06-13T13:26:43.1732543Z",
              "spark_jobs": {
                "numbers": {
                  "FAILED": 0,
                  "RUNNING": 0,
                  "UNKNOWN": 0,
                  "SUCCEEDED": 0
                },
                "jobs": [],
                "limit": 20,
                "rule": "ALL_DESC"
              },
              "parent_msg_id": "fa71177f-1ce8-4d08-9594-05b478a2c698"
            },
            "text/plain": "StatementMeta(28089669-bbd5-433b-b328-2aaf792d2d3a, 3, 38, Finished, Available)"
          },
          "metadata": {}
        }
      ],
      "execution_count": 33,
      "metadata": {
        "gather": {
          "logged": 1686662803005
        }
      }
    },
    {
      "cell_type": "markdown",
      "source": [
        "Now you will create subsets of the training data frame, one that will be used for training the model `X_train` and `y_train` and the another that reserved for testing its performance `X_test` and `y_test`."
      ],
      "metadata": {}
    },
    {
      "cell_type": "code",
      "source": [
        "X_train, X_test, y_train, y_test = train_test_split(balanced_transactions, balanced_labels, \n",
        "                                                    test_size=0.2, random_state=42)"
      ],
      "outputs": [
        {
          "output_type": "display_data",
          "data": {
            "application/vnd.livy.statement-meta+json": {
              "spark_pool": "28089669-bbd5-433b-b328-2aaf792d2d3a",
              "session_id": "3",
              "statement_id": 39,
              "state": "finished",
              "livy_statement_state": "available",
              "queued_time": "2023-06-13T13:25:14.0703925Z",
              "session_start_time": null,
              "execution_start_time": "2023-06-13T13:26:43.2637144Z",
              "execution_finish_time": "2023-06-13T13:26:43.5859249Z",
              "spark_jobs": {
                "numbers": {
                  "FAILED": 0,
                  "RUNNING": 0,
                  "UNKNOWN": 0,
                  "SUCCEEDED": 0
                },
                "jobs": [],
                "limit": 20,
                "rule": "ALL_DESC"
              },
              "parent_msg_id": "cf842e49-a395-4b52-af66-3f09d7283869"
            },
            "text/plain": "StatementMeta(28089669-bbd5-433b-b328-2aaf792d2d3a, 3, 39, Finished, Available)"
          },
          "metadata": {}
        }
      ],
      "execution_count": 34,
      "metadata": {
        "gather": {
          "logged": 1686662803452
        }
      }
    },
    {
      "cell_type": "markdown",
      "source": [
        "Now train the model. In this case, you will use the `LinearSVC` class.\n",
        "\n",
        "> Feel free to ignore any `ConvergenceWarning` warnings in the cell output below"
      ],
      "metadata": {}
    },
    {
      "cell_type": "code",
      "source": [
        "import numpy as np\n",
        "from sklearn.pipeline import Pipeline\n",
        "from sklearn.preprocessing import StandardScaler\n",
        "from sklearn.svm import LinearSVC\n",
        "\n",
        "svm_clf = Pipeline((\n",
        "    (\"preprocess\", preprocessor),\n",
        "    (\"linear_svc\", LinearSVC(C=1, loss=\"hinge\"))\n",
        "))\n",
        "svm_clf.fit(X_train, y_train)"
      ],
      "outputs": [
        {
          "output_type": "display_data",
          "data": {
            "application/vnd.livy.statement-meta+json": {
              "spark_pool": "28089669-bbd5-433b-b328-2aaf792d2d3a",
              "session_id": "3",
              "statement_id": 40,
              "state": "finished",
              "livy_statement_state": "available",
              "queued_time": "2023-06-13T13:25:14.3105674Z",
              "session_start_time": null,
              "execution_start_time": "2023-06-13T13:26:43.6649969Z",
              "execution_finish_time": "2023-06-13T13:26:44.5779564Z",
              "spark_jobs": {
                "numbers": {
                  "FAILED": 0,
                  "RUNNING": 0,
                  "UNKNOWN": 0,
                  "SUCCEEDED": 0
                },
                "jobs": [],
                "limit": 20,
                "rule": "ALL_DESC"
              },
              "parent_msg_id": "f5382405-4720-4309-a352-652d2bb1d3dd"
            },
            "text/plain": "StatementMeta(28089669-bbd5-433b-b328-2aaf792d2d3a, 3, 40, Finished, Available)"
          },
          "metadata": {}
        },
        {
          "output_type": "stream",
          "name": "stdout",
          "text": "NumericCleaner.fit called\nNumericCleaner.transform called\nCategoricalCleaner.fit called\nCategoricalCleaner.transform called\n"
        },
        {
          "output_type": "stream",
          "name": "stderr",
          "text": "/home/trusted-service-user/cluster-env/env/lib/python3.8/site-packages/sklearn/svm/_base.py:976: ConvergenceWarning: Liblinear failed to converge, increase the number of iterations.\n  warnings.warn(\"Liblinear failed to converge, increase \"\n"
        },
        {
          "output_type": "execute_result",
          "execution_count": 79,
          "data": {
            "text/plain": "Pipeline(steps=[('preprocess',\n                 ColumnTransformer(transformers=[('num',\n                                                  Pipeline(steps=[('cleaner',\n                                                                   NumericCleaner()),\n                                                                  ('scaler',\n                                                                   StandardScaler())]),\n                                                  ['transactionAmountUSD',\n                                                   'transactionDate',\n                                                   'transactionTime',\n                                                   'localHour',\n                                                   'transactionIPaddress',\n                                                   'digitalItemCount',\n                                                   'physicalItemCount']),\n                                                 ('cat',\n                                                  Pipeline(steps=[('cleaner',\n                                                                   CategoricalCleaner()),\n                                                                  ('onehot',\n                                                                   OneHotEncoder(handle_unknown='ignore'))]),\n                                                  ['transactionCurrencyCode',\n                                                   'browserLanguage',\n                                                   'paymentInstrumentType',\n                                                   'cardType',\n                                                   'cvvVerifyResult'])])),\n                ('linear_svc', LinearSVC(C=1, loss='hinge'))])"
          },
          "metadata": {}
        }
      ],
      "execution_count": 35,
      "metadata": {
        "gather": {
          "logged": 1686662804271
        }
      }
    },
    {
      "cell_type": "markdown",
      "source": [
        "Test the model predicting against a single row from the test set."
      ],
      "metadata": {}
    },
    {
      "cell_type": "code",
      "source": [
        "import datetime\r\n",
        "val = [['A985156985579195', 'en-AU', 'VISA', 'M', 1, 'au', '3000', 'victoria', False, 19, 'AU', '3122', 'Victoria', 'CREDITCARD', 0, 99.0, 103.48965, 'AUD', datetime.date(2013, 4, 9), '5EAC1EBD-1428-4593-898E-F4B56BC3FA06', 121.219, datetime.time(9, 50)]]\r\n",
        "test_df = pd.DataFrame(val,columns = desired_cols)\r\n",
        "\r\n",
        "svm_clf.predict()\r\n",
        "print(X_test[0:1])"
      ],
      "outputs": [
        {
          "output_type": "display_data",
          "data": {
            "application/vnd.livy.statement-meta+json": {
              "spark_pool": "28089669-bbd5-433b-b328-2aaf792d2d3a",
              "session_id": "3",
              "statement_id": 52,
              "state": "finished",
              "livy_statement_state": "available",
              "queued_time": "2023-06-13T13:39:25.4319918Z",
              "session_start_time": null,
              "execution_start_time": "2023-06-13T13:39:25.4978267Z",
              "execution_finish_time": "2023-06-13T13:39:25.8204505Z",
              "spark_jobs": {
                "numbers": {
                  "FAILED": 0,
                  "RUNNING": 0,
                  "UNKNOWN": 0,
                  "SUCCEEDED": 0
                },
                "jobs": [],
                "limit": 20,
                "rule": "ALL_DESC"
              },
              "parent_msg_id": "36ffb6b7-325b-438e-84c6-006be1ab24f5"
            },
            "text/plain": "StatementMeta(28089669-bbd5-433b-b328-2aaf792d2d3a, 3, 52, Finished, Available)"
          },
          "metadata": {}
        },
        {
          "output_type": "error",
          "ename": "TypeError",
          "evalue": "predict() missing 1 required positional argument: 'X'",
          "traceback": [
            "\u001b[0;31m---------------------------------------------------------------------------\u001b[0m",
            "\u001b[0;31mTypeError\u001b[0m                                 Traceback (most recent call last)",
            "\u001b[0;32m/tmp/ipykernel_25943/1846054302.py\u001b[0m in \u001b[0;36m<module>\u001b[0;34m\u001b[0m\n\u001b[1;32m      3\u001b[0m \u001b[0mtest_df\u001b[0m \u001b[0;34m=\u001b[0m \u001b[0mpd\u001b[0m\u001b[0;34m.\u001b[0m\u001b[0mDataFrame\u001b[0m\u001b[0;34m(\u001b[0m\u001b[0mval\u001b[0m\u001b[0;34m,\u001b[0m\u001b[0mcolumns\u001b[0m \u001b[0;34m=\u001b[0m \u001b[0mdesired_cols\u001b[0m\u001b[0;34m)\u001b[0m\u001b[0;34m\u001b[0m\u001b[0;34m\u001b[0m\u001b[0m\n\u001b[1;32m      4\u001b[0m \u001b[0;34m\u001b[0m\u001b[0m\n\u001b[0;32m----> 5\u001b[0;31m \u001b[0msvm_clf\u001b[0m\u001b[0;34m.\u001b[0m\u001b[0mpredict\u001b[0m\u001b[0;34m(\u001b[0m\u001b[0;34m)\u001b[0m\u001b[0;34m\u001b[0m\u001b[0;34m\u001b[0m\u001b[0m\n\u001b[0m\u001b[1;32m      6\u001b[0m \u001b[0mprint\u001b[0m\u001b[0;34m(\u001b[0m\u001b[0mX_test\u001b[0m\u001b[0;34m[\u001b[0m\u001b[0;36m0\u001b[0m\u001b[0;34m:\u001b[0m\u001b[0;36m1\u001b[0m\u001b[0;34m]\u001b[0m\u001b[0;34m)\u001b[0m\u001b[0;34m\u001b[0m\u001b[0;34m\u001b[0m\u001b[0m\n",
            "\u001b[0;32m~/cluster-env/env/lib/python3.8/site-packages/sklearn/utils/metaestimators.py\u001b[0m in \u001b[0;36m<lambda>\u001b[0;34m(*args, **kwargs)\u001b[0m\n\u001b[1;32m    117\u001b[0m \u001b[0;34m\u001b[0m\u001b[0m\n\u001b[1;32m    118\u001b[0m         \u001b[0;31m# lambda, but not partial, allows help() to work with update_wrapper\u001b[0m\u001b[0;34m\u001b[0m\u001b[0;34m\u001b[0m\u001b[0;34m\u001b[0m\u001b[0m\n\u001b[0;32m--> 119\u001b[0;31m         \u001b[0mout\u001b[0m \u001b[0;34m=\u001b[0m \u001b[0;32mlambda\u001b[0m \u001b[0;34m*\u001b[0m\u001b[0margs\u001b[0m\u001b[0;34m,\u001b[0m \u001b[0;34m**\u001b[0m\u001b[0mkwargs\u001b[0m\u001b[0;34m:\u001b[0m \u001b[0mself\u001b[0m\u001b[0;34m.\u001b[0m\u001b[0mfn\u001b[0m\u001b[0;34m(\u001b[0m\u001b[0mobj\u001b[0m\u001b[0;34m,\u001b[0m \u001b[0;34m*\u001b[0m\u001b[0margs\u001b[0m\u001b[0;34m,\u001b[0m \u001b[0;34m**\u001b[0m\u001b[0mkwargs\u001b[0m\u001b[0;34m)\u001b[0m\u001b[0;34m\u001b[0m\u001b[0;34m\u001b[0m\u001b[0m\n\u001b[0m\u001b[1;32m    120\u001b[0m         \u001b[0;31m# update the docstring of the returned function\u001b[0m\u001b[0;34m\u001b[0m\u001b[0;34m\u001b[0m\u001b[0;34m\u001b[0m\u001b[0m\n\u001b[1;32m    121\u001b[0m         \u001b[0mupdate_wrapper\u001b[0m\u001b[0;34m(\u001b[0m\u001b[0mout\u001b[0m\u001b[0;34m,\u001b[0m \u001b[0mself\u001b[0m\u001b[0;34m.\u001b[0m\u001b[0mfn\u001b[0m\u001b[0;34m)\u001b[0m\u001b[0;34m\u001b[0m\u001b[0;34m\u001b[0m\u001b[0m\n",
            "\u001b[0;31mTypeError\u001b[0m: predict() missing 1 required positional argument: 'X'"
          ]
        }
      ],
      "execution_count": 47,
      "metadata": {
        "gather": {
          "logged": 1686663565220
        }
      }
    },
    {
      "cell_type": "markdown",
      "source": [
        "Next, evaluate the model by examining how well it is predicting against all data in the training set."
      ],
      "metadata": {}
    },
    {
      "cell_type": "code",
      "source": [
        "y_train_preds = svm_clf.predict(X_train)"
      ],
      "outputs": [
        {
          "output_type": "display_data",
          "data": {
            "application/vnd.livy.statement-meta+json": {
              "spark_pool": "28089669-bbd5-433b-b328-2aaf792d2d3a",
              "session_id": "3",
              "statement_id": 42,
              "state": "finished",
              "livy_statement_state": "available",
              "queued_time": "2023-06-13T13:25:14.7779344Z",
              "session_start_time": null,
              "execution_start_time": "2023-06-13T13:26:45.0624641Z",
              "execution_finish_time": "2023-06-13T13:26:45.43548Z",
              "spark_jobs": {
                "numbers": {
                  "FAILED": 0,
                  "RUNNING": 0,
                  "UNKNOWN": 0,
                  "SUCCEEDED": 0
                },
                "jobs": [],
                "limit": 20,
                "rule": "ALL_DESC"
              },
              "parent_msg_id": "eae74f97-e390-492d-94e0-8a1cb6764bdb"
            },
            "text/plain": "StatementMeta(28089669-bbd5-433b-b328-2aaf792d2d3a, 3, 42, Finished, Available)"
          },
          "metadata": {}
        },
        {
          "output_type": "stream",
          "name": "stdout",
          "text": "NumericCleaner.transform called\nCategoricalCleaner.transform called\n"
        }
      ],
      "execution_count": 37,
      "metadata": {
        "gather": {
          "logged": 1686662805427
        }
      }
    },
    {
      "cell_type": "markdown",
      "source": [
        "Use a confusion matrix to see how your model performed when correctly predicting non-fraud and fraud (the top left and bottom right values). Also, examine how your model made mistakes (the bottom left and top right values). In the below, the column headers are predicted non-fraud and predicted fraud, and the row headers are actually non-fraud, and actually fraud (e.g., as described by the training data)."
      ],
      "metadata": {}
    },
    {
      "cell_type": "code",
      "source": [
        "from sklearn.metrics import confusion_matrix, accuracy_score, precision_score, recall_score, f1_score, roc_auc_score\n",
        "confusion_matrix(y_train, y_train_preds)"
      ],
      "outputs": [
        {
          "output_type": "display_data",
          "data": {
            "application/vnd.livy.statement-meta+json": {
              "spark_pool": "28089669-bbd5-433b-b328-2aaf792d2d3a",
              "session_id": "3",
              "statement_id": 43,
              "state": "finished",
              "livy_statement_state": "available",
              "queued_time": "2023-06-13T13:25:14.9823785Z",
              "session_start_time": null,
              "execution_start_time": "2023-06-13T13:26:45.5349854Z",
              "execution_finish_time": "2023-06-13T13:26:45.9247609Z",
              "spark_jobs": {
                "numbers": {
                  "FAILED": 0,
                  "RUNNING": 0,
                  "UNKNOWN": 0,
                  "SUCCEEDED": 0
                },
                "jobs": [],
                "limit": 20,
                "rule": "ALL_DESC"
              },
              "parent_msg_id": "118bf50c-8427-4682-b3d0-be50eecdf5e1"
            },
            "text/plain": "StatementMeta(28089669-bbd5-433b-b328-2aaf792d2d3a, 3, 43, Finished, Available)"
          },
          "metadata": {}
        },
        {
          "output_type": "execute_result",
          "execution_count": 85,
          "data": {
            "text/plain": "array([[385, 536],\n       [112, 808]])"
          },
          "metadata": {}
        }
      ],
      "execution_count": 38,
      "metadata": {
        "gather": {
          "logged": 1686662806008
        }
      }
    },
    {
      "cell_type": "markdown",
      "source": [
        "Take a look at the performance of your model using the common set of metrics for a classifier. Do you think this is good or bad?"
      ],
      "metadata": {}
    },
    {
      "cell_type": "code",
      "source": [
        "print(\"Accuracy:\", accuracy_score(y_train, y_train_preds))\n",
        "print(\"Precision:\", precision_score(y_train, y_train_preds))\n",
        "print(\"Recall:\", recall_score(y_train, y_train_preds))\n",
        "print(\"F1:\", f1_score(y_train, y_train_preds))\n",
        "print(\"AUC:\", roc_auc_score(y_train, y_train_preds))"
      ],
      "outputs": [
        {
          "output_type": "display_data",
          "data": {
            "application/vnd.livy.statement-meta+json": {
              "spark_pool": "28089669-bbd5-433b-b328-2aaf792d2d3a",
              "session_id": "3",
              "statement_id": 44,
              "state": "finished",
              "livy_statement_state": "available",
              "queued_time": "2023-06-13T13:25:15.242654Z",
              "session_start_time": null,
              "execution_start_time": "2023-06-13T13:26:46.0223668Z",
              "execution_finish_time": "2023-06-13T13:26:46.3795893Z",
              "spark_jobs": {
                "numbers": {
                  "FAILED": 0,
                  "RUNNING": 0,
                  "UNKNOWN": 0,
                  "SUCCEEDED": 0
                },
                "jobs": [],
                "limit": 20,
                "rule": "ALL_DESC"
              },
              "parent_msg_id": "fc50919d-264c-4ec8-b315-0afc6d6c9d10"
            },
            "text/plain": "StatementMeta(28089669-bbd5-433b-b328-2aaf792d2d3a, 3, 44, Finished, Available)"
          },
          "metadata": {}
        },
        {
          "output_type": "stream",
          "name": "stdout",
          "text": "Accuracy: 0.6480173818576861\nPrecision: 0.6011904761904762\nRecall: 0.8782608695652174\nF1: 0.7137809187279153\nAUC: 0.6481423783222395\n"
        }
      ],
      "execution_count": 39,
      "metadata": {
        "gather": {
          "logged": 1686662806598
        }
      }
    },
    {
      "cell_type": "markdown",
      "source": [
        "Given that this is just a parsimonous model, this model provides a start that performs better than random (as indicated by the AUC being greater than 0.5). There is more work (such as additional feature engineering) that can be done to improve this beyond the current performance that you would want to do before deploying it in production, but that is out of scope for this lab. A parsiminous model helps us to both see if the desired classification is possible given the data and allows to quickly get to something we can deploy as a service to enable integration early on. Then we can iterate deploying improved versions of the model."
      ],
      "metadata": {}
    },
    {
      "cell_type": "markdown",
      "source": [
        "Now, evaluate the same using the test data set, using data the trained model has not seen. How does it perform?"
      ],
      "metadata": {}
    },
    {
      "cell_type": "code",
      "source": [
        "y_test_preds = svm_clf.predict(X_test)\n",
        "print(confusion_matrix(y_test, y_test_preds))\n",
        "print(accuracy_score(y_test, y_test_preds))\n",
        "print(\"Accuracy:\", accuracy_score(y_test, y_test_preds))\n",
        "print(\"Precision:\", precision_score(y_test, y_test_preds))\n",
        "print(\"Recall:\", recall_score(y_test, y_test_preds))\n",
        "print(\"F1:\", f1_score(y_test, y_test_preds))\n",
        "print(\"AUC:\", roc_auc_score(y_test, y_test_preds))"
      ],
      "outputs": [
        {
          "output_type": "display_data",
          "data": {
            "application/vnd.livy.statement-meta+json": {
              "spark_pool": "28089669-bbd5-433b-b328-2aaf792d2d3a",
              "session_id": "3",
              "statement_id": 45,
              "state": "finished",
              "livy_statement_state": "available",
              "queued_time": "2023-06-13T13:25:15.470377Z",
              "session_start_time": null,
              "execution_start_time": "2023-06-13T13:26:46.4624991Z",
              "execution_finish_time": "2023-06-13T13:26:46.8090625Z",
              "spark_jobs": {
                "numbers": {
                  "FAILED": 0,
                  "RUNNING": 0,
                  "UNKNOWN": 0,
                  "SUCCEEDED": 0
                },
                "jobs": [],
                "limit": 20,
                "rule": "ALL_DESC"
              },
              "parent_msg_id": "ed21e7c7-59d2-45b0-90e1-d6e4a0fb07e8"
            },
            "text/plain": "StatementMeta(28089669-bbd5-433b-b328-2aaf792d2d3a, 3, 45, Finished, Available)"
          },
          "metadata": {}
        },
        {
          "output_type": "stream",
          "name": "stdout",
          "text": "NumericCleaner.transform called\nCategoricalCleaner.transform called\n[[ 98 132]\n [ 34 197]]\n0.6399132321041214\nAccuracy: 0.6399132321041214\nPrecision: 0.5987841945288754\nRecall: 0.8528138528138528\nF1: 0.7035714285714286\nAUC: 0.639450404667796\n"
        }
      ],
      "execution_count": 40,
      "metadata": {
        "gather": {
          "logged": 1686662807219
        }
      }
    },
    {
      "cell_type": "markdown",
      "source": [
        "The overall performance of the model against data it has not seen (the test data) is similar to how it performs with the training data. That's a good sign, indicating we did not overfit the model to the training data.\n",
        "\n",
        "Next, let's look the steps to prepare the model for deployment as a web service."
      ],
      "metadata": {}
    },
    {
      "cell_type": "markdown",
      "source": [
        "## Save the model to disk\n",
        "\n",
        "In preparation for deploying the model, you need to save the model to disk."
      ],
      "metadata": {}
    },
    {
      "cell_type": "code",
      "source": [
        "joblib.dump(svm_clf, models_dir + 'fraud_score.pkl')"
      ],
      "outputs": [
        {
          "output_type": "display_data",
          "data": {
            "application/vnd.livy.statement-meta+json": {
              "spark_pool": "28089669-bbd5-433b-b328-2aaf792d2d3a",
              "session_id": "3",
              "statement_id": 46,
              "state": "finished",
              "livy_statement_state": "available",
              "queued_time": "2023-06-13T13:25:15.917304Z",
              "session_start_time": null,
              "execution_start_time": "2023-06-13T13:26:46.9053393Z",
              "execution_finish_time": "2023-06-13T13:26:47.8452632Z",
              "spark_jobs": {
                "numbers": {
                  "FAILED": 0,
                  "RUNNING": 0,
                  "UNKNOWN": 0,
                  "SUCCEEDED": 0
                },
                "jobs": [],
                "limit": 20,
                "rule": "ALL_DESC"
              },
              "parent_msg_id": "810ecece-ac81-477e-81fb-e874526ceb46"
            },
            "text/plain": "StatementMeta(28089669-bbd5-433b-b328-2aaf792d2d3a, 3, 46, Finished, Available)"
          },
          "metadata": {}
        },
        {
          "output_type": "execute_result",
          "execution_count": 91,
          "data": {
            "text/plain": "['FileStore/mcw_cdb_b973f0d8-09cb-466c-a8ae-e15d3de8b5a7/models/fraud_score.pkl']"
          },
          "metadata": {}
        }
      ],
      "execution_count": 41,
      "metadata": {
        "gather": {
          "logged": 1686662807822
        }
      }
    },
    {
      "cell_type": "markdown",
      "source": [
        "## Test loading the model\n",
        "\n",
        "Next simulate re-loading the model from disk, just like the web service (which you will create in a moment) will have to do."
      ],
      "metadata": {}
    },
    {
      "cell_type": "code",
      "source": [
        "import pandas as pd\n",
        "from sklearn.pipeline import Pipeline\n",
        "from sklearn.compose import ColumnTransformer\n",
        "from sklearn.preprocessing import OneHotEncoder, StandardScaler\n",
        "from sklearn.base import BaseEstimator, TransformerMixin\n",
        "from customestimators import NumericCleaner, CategoricalCleaner\n",
        "\n",
        "# sklearn.externals.joblib was deprecated in 0.21\n",
        "from sklearn import __version__ as sklearnver\n",
        "from packaging.version import Version\n",
        "if Version(sklearnver) < Version(\"0.21.0\"):\n",
        "    from sklearn.externals import joblib\n",
        "else:\n",
        "    import joblib\n",
        "\n",
        "desired_cols = ['accountID',\n",
        " 'browserLanguage',\n",
        " 'cardType',\n",
        " 'cvvVerifyResult',\n",
        " 'digitalItemCount',\n",
        " 'ipCountryCode',\n",
        " 'ipPostcode',\n",
        " 'ipState',\n",
        " 'isProxyIP',\n",
        " 'localHour',\n",
        " 'paymentBillingCountryCode',\n",
        " 'paymentBillingPostalCode',\n",
        " 'paymentBillingState',\n",
        " 'paymentInstrumentType',\n",
        " 'physicalItemCount',\n",
        " 'transactionAmount',\n",
        " 'transactionAmountUSD',\n",
        " 'transactionCurrencyCode',\n",
        " 'transactionDate',\n",
        " 'transactionID',\n",
        " 'transactionIPaddress',\n",
        " 'transactionTime']\n",
        "\n",
        "scoring_pipeline = joblib.load(models_dir + 'fraud_score.pkl')"
      ],
      "outputs": [
        {
          "output_type": "display_data",
          "data": {
            "application/vnd.livy.statement-meta+json": {
              "spark_pool": "28089669-bbd5-433b-b328-2aaf792d2d3a",
              "session_id": "3",
              "statement_id": 47,
              "state": "finished",
              "livy_statement_state": "available",
              "queued_time": "2023-06-13T13:25:16.0902129Z",
              "session_start_time": null,
              "execution_start_time": "2023-06-13T13:26:47.9352564Z",
              "execution_finish_time": "2023-06-13T13:26:48.3259957Z",
              "spark_jobs": {
                "numbers": {
                  "FAILED": 0,
                  "RUNNING": 0,
                  "UNKNOWN": 0,
                  "SUCCEEDED": 0
                },
                "jobs": [],
                "limit": 20,
                "rule": "ALL_DESC"
              },
              "parent_msg_id": "e29e179a-6fd0-4115-a1c3-42cd1907ff4c"
            },
            "text/plain": "StatementMeta(28089669-bbd5-433b-b328-2aaf792d2d3a, 3, 47, Finished, Available)"
          },
          "metadata": {}
        }
      ],
      "execution_count": 42,
      "metadata": {
        "gather": {
          "logged": 1686662808702
        }
      }
    },
    {
      "cell_type": "code",
      "source": [
        "untagged_ds = Dataset.Tabular.from_delimited_files(path = [(ds, 'transactions/Untagged_Transactions.csv')])\n",
        "untagged_df_fresh = untagged_ds.to_pandas_dataframe()\n",
        "untagged_df_fresh=untagged_df_fresh[desired_cols]\n",
        "\n",
        "test_pipeline_preds = scoring_pipeline.predict(untagged_df_fresh)\n",
        "test_pipeline_preds"
      ],
      "outputs": [
        {
          "output_type": "display_data",
          "data": {
            "application/vnd.livy.statement-meta+json": {
              "spark_pool": "28089669-bbd5-433b-b328-2aaf792d2d3a",
              "session_id": "3",
              "statement_id": 48,
              "state": "finished",
              "livy_statement_state": "available",
              "queued_time": "2023-06-13T13:25:16.262176Z",
              "session_start_time": null,
              "execution_start_time": "2023-06-13T13:26:48.424008Z",
              "execution_finish_time": "2023-06-13T13:26:52.1390056Z",
              "spark_jobs": {
                "numbers": {
                  "FAILED": 0,
                  "RUNNING": 0,
                  "UNKNOWN": 0,
                  "SUCCEEDED": 0
                },
                "jobs": [],
                "limit": 20,
                "rule": "ALL_DESC"
              },
              "parent_msg_id": "56e73bcc-7cdb-4353-af8c-b7360a20e401"
            },
            "text/plain": "StatementMeta(28089669-bbd5-433b-b328-2aaf792d2d3a, 3, 48, Finished, Available)"
          },
          "metadata": {}
        },
        {
          "output_type": "stream",
          "name": "stdout",
          "text": "NumericCleaner.transform called\nCategoricalCleaner.transform called\n"
        },
        {
          "output_type": "execute_result",
          "execution_count": 95,
          "data": {
            "text/plain": "array([ True,  True, False, ..., False, False, False])"
          },
          "metadata": {}
        }
      ],
      "execution_count": 43,
      "metadata": {
        "gather": {
          "logged": 1686662811453
        },
        "scrolled": true
      }
    },
    {
      "cell_type": "code",
      "source": [
        "one_row = untagged_df_fresh.iloc[:1]\n",
        "test_pipeline_preds2 = scoring_pipeline.predict(one_row)\n",
        "test_pipeline_preds2"
      ],
      "outputs": [
        {
          "output_type": "display_data",
          "data": {
            "application/vnd.livy.statement-meta+json": {
              "spark_pool": "28089669-bbd5-433b-b328-2aaf792d2d3a",
              "session_id": "3",
              "statement_id": 49,
              "state": "finished",
              "livy_statement_state": "available",
              "queued_time": "2023-06-13T13:25:16.4297077Z",
              "session_start_time": null,
              "execution_start_time": "2023-06-13T13:26:52.2179356Z",
              "execution_finish_time": "2023-06-13T13:26:52.607205Z",
              "spark_jobs": {
                "numbers": {
                  "FAILED": 0,
                  "RUNNING": 0,
                  "UNKNOWN": 0,
                  "SUCCEEDED": 0
                },
                "jobs": [],
                "limit": 20,
                "rule": "ALL_DESC"
              },
              "parent_msg_id": "5f71b8fa-cb60-47c3-a1c8-2b20ccd0886d"
            },
            "text/plain": "StatementMeta(28089669-bbd5-433b-b328-2aaf792d2d3a, 3, 49, Finished, Available)"
          },
          "metadata": {}
        },
        {
          "output_type": "stream",
          "name": "stdout",
          "text": "NumericCleaner.transform called\nCategoricalCleaner.transform called\n"
        },
        {
          "output_type": "execute_result",
          "execution_count": 97,
          "data": {
            "text/plain": "array([ True])"
          },
          "metadata": {}
        }
      ],
      "execution_count": 44,
      "metadata": {
        "gather": {
          "logged": 1686662812018
        },
        "scrolled": false
      }
    },
    {
      "cell_type": "markdown",
      "source": [
        "## Register the model in the Azure ML workspace"
      ],
      "metadata": {}
    },
    {
      "cell_type": "code",
      "source": [
        "import azureml\n",
        "from azureml.core import Workspace, Webservice\n",
        "from azureml.core.model import Model\n",
        "from azureml.exceptions import WebserviceException\n",
        "from azureml.core.resource_configuration import ResourceConfiguration"
      ],
      "outputs": [
        {
          "output_type": "display_data",
          "data": {
            "application/vnd.livy.statement-meta+json": {
              "spark_pool": null,
              "session_id": null,
              "statement_id": null,
              "state": "cancelled",
              "livy_statement_state": null,
              "queued_time": "2023-06-13T13:25:16.6013818Z",
              "session_start_time": null,
              "execution_start_time": null,
              "execution_finish_time": "2023-06-13T13:26:06.7402442Z",
              "spark_jobs": null,
              "parent_msg_id": "3673d00a-69da-4c95-9b43-b507c9ffd62f"
            },
            "text/plain": "StatementMeta(, , , Cancelled, )"
          },
          "metadata": {}
        }
      ],
      "execution_count": null,
      "metadata": {
        "gather": {
          "logged": 1686662765903
        }
      }
    },
    {
      "cell_type": "code",
      "source": [
        "print(sklearnver)"
      ],
      "outputs": [
        {
          "output_type": "display_data",
          "data": {
            "application/vnd.livy.statement-meta+json": {
              "spark_pool": null,
              "session_id": null,
              "statement_id": null,
              "state": "cancelled",
              "livy_statement_state": null,
              "queued_time": "2023-06-13T13:25:16.8041986Z",
              "session_start_time": null,
              "execution_start_time": null,
              "execution_finish_time": "2023-06-13T13:26:13.9026386Z",
              "spark_jobs": null,
              "parent_msg_id": "235b9e2f-72d0-4c7b-bc74-1adba7a9a9dc"
            },
            "text/plain": "StatementMeta(, , , Cancelled, )"
          },
          "metadata": {}
        }
      ],
      "execution_count": null,
      "metadata": {
        "gather": {
          "logged": 1686662773378
        }
      }
    },
    {
      "cell_type": "markdown",
      "source": [
        "Register the model, providing details on the framework that was used to create the model. The cell output above shows the version of scikit-learn we are using. Additionally, we specify the desired resources (CPU and Memory) to be allocated for the deployment of the model."
      ],
      "metadata": {}
    },
    {
      "cell_type": "code",
      "source": [
        "from azureml.core.resource_configuration import ResourceConfiguration\n",
        "\n",
        "# Register the model with the workspace\n",
        "registered_model = Model.register(model_path=models_dir, model_name=\"fraud-score\", workspace=ws, model_framework=Model.Framework.SCIKITLEARN, model_framework_version=sklearnver, resource_configuration=ResourceConfiguration(cpu=1, memory_in_gb=0.5), description='Fraud Detection Model')"
      ],
      "outputs": [
        {
          "output_type": "display_data",
          "data": {
            "application/vnd.livy.statement-meta+json": {
              "spark_pool": null,
              "session_id": null,
              "statement_id": null,
              "state": "cancelled",
              "livy_statement_state": null,
              "queued_time": "2023-06-13T13:25:17.0003892Z",
              "session_start_time": null,
              "execution_start_time": null,
              "execution_finish_time": "2023-06-13T13:26:16.2150499Z",
              "spark_jobs": null,
              "parent_msg_id": "372cf867-9cc7-440c-998e-989915fd7c6c"
            },
            "text/plain": "StatementMeta(, , , Cancelled, )"
          },
          "metadata": {}
        }
      ],
      "execution_count": null,
      "metadata": {
        "gather": {
          "logged": 1686662775358
        }
      }
    },
    {
      "cell_type": "markdown",
      "source": [
        "> **Note**: Please note that executing the next few cells can take between **7** and **10** minutes."
      ],
      "metadata": {}
    },
    {
      "cell_type": "markdown",
      "source": [
        "Deploy the model to Azure Container Instances. Once deployment is complete - you will see the message **ACI Service creation operation finished, operation \"Succeeded\"**"
      ],
      "metadata": {}
    },
    {
      "cell_type": "code",
      "source": [
        "service_name = \"scoringservice\"\n",
        "\n",
        "# delete any existing service with the same name\n",
        "try:\n",
        "  Webservice(ws, service_name).delete()\n",
        "except WebserviceException:\n",
        "  pass\n",
        "\n",
        "# deploy the registered model to Azure Container Instances\n",
        "service = Model.deploy(ws, service_name, [registered_model])\n",
        "service.wait_for_deployment(show_output=True)"
      ],
      "outputs": [
        {
          "output_type": "display_data",
          "data": {
            "application/vnd.livy.statement-meta+json": {
              "spark_pool": null,
              "session_id": null,
              "statement_id": null,
              "state": "cancelled",
              "livy_statement_state": null,
              "queued_time": "2023-06-13T13:25:17.239425Z",
              "session_start_time": null,
              "execution_start_time": null,
              "execution_finish_time": "2023-06-13T13:26:20.3525793Z",
              "spark_jobs": null,
              "parent_msg_id": "ee6d8ee7-4b3e-41e7-a050-6fe43e16422d"
            },
            "text/plain": "StatementMeta(, , , Cancelled, )"
          },
          "metadata": {}
        }
      ],
      "execution_count": null,
      "metadata": {
        "gather": {
          "logged": 1686662779497
        }
      }
    }
  ],
  "metadata": {
    "kernel_info": {
      "name": "synapse_pyspark"
    },
    "kernelspec": {
      "name": "synapse_pyspark",
      "language": "Python",
      "display_name": "Synapse PySpark"
    },
    "language_info": {
      "name": "python",
      "version": "3.8.0",
      "mimetype": "text/x-python",
      "file_extension": ".py",
      "pygments_lexer": "ipython",
      "codemirror_mode": "ipython",
      "nbconvert_exporter": "python"
    },
    "nteract": {
      "version": "nteract-front-end@1.0.0"
    },
    "microsoft": {
      "host": {
        "AzureML": {
          "notebookHasBeenCompleted": true
        }
      },
      "ms_spell_check": {
        "ms_spell_check_language": "en"
      }
    }
  },
  "nbformat": 4,
  "nbformat_minor": 2
}